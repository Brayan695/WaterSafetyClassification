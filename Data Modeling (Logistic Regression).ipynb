{
 "cells": [
  {
   "cell_type": "markdown",
   "metadata": {},
   "source": [
    "# Data Modeling Assignment\n",
    "***"
   ]
  },
  {
   "cell_type": "code",
   "execution_count": 92,
   "metadata": {},
   "outputs": [],
   "source": [
    "import numpy as np\n",
    "import pandas as pd\n",
    "from sklearn.linear_model import LogisticRegression\n",
    "from sklearn.model_selection import train_test_split\n",
    "from sklearn.preprocessing import StandardScaler\n",
    "from sklearn.metrics import accuracy_score, confusion_matrix, ConfusionMatrixDisplay, classification_report, roc_auc_score, roc_curve\n",
    "import matplotlib.pyplot as plt\n",
    "from sklearn.preprocessing import LabelEncoder\n",
    "from imblearn.over_sampling import SMOTE\n",
    "from sklearn.model_selection import RepeatedStratifiedKFold\n",
    "from sklearn.model_selection import GridSearchCV"
   ]
  },
  {
   "cell_type": "markdown",
   "metadata": {},
   "source": [
    "# Data Reading and Extracting\n",
    "***"
   ]
  },
  {
   "cell_type": "code",
   "execution_count": 93,
   "metadata": {},
   "outputs": [],
   "source": [
    "# Reading Dataset\n",
    "ground_water = pd.read_csv(\"ground_water_quality_2022_post.csv\")\n",
    "ground_water_df = pd.DataFrame(ground_water)\n",
    "ground_water_df = ground_water_df.dropna()\n",
    "\n",
    "ground_water_df = ground_water_df.rename(columns = {'NO3 ': 'NO3'})\n",
    "ground_water_df = ground_water_df.rename(columns = {'RSC  meq  / L': 'RSC'})\n",
    "numeric = ground_water_df.select_dtypes(include=['number']).columns\n",
    "nonnumeric = ground_water_df.select_dtypes(exclude=['number']).columns"
   ]
  },
  {
   "cell_type": "code",
   "execution_count": 94,
   "metadata": {},
   "outputs": [
    {
     "name": "stdout",
     "output_type": "stream",
     "text": [
      "<class 'pandas.core.frame.DataFrame'>\n",
      "Index: 817 entries, 0 to 1023\n",
      "Data columns (total 20 columns):\n",
      " #   Column    Non-Null Count  Dtype  \n",
      "---  ------    --------------  -----  \n",
      " 0   sno       817 non-null    float64\n",
      " 1   lat_gis   817 non-null    float64\n",
      " 2   long_gis  817 non-null    float64\n",
      " 3   RL_GIS    817 non-null    float64\n",
      " 4   pH        817 non-null    float64\n",
      " 5   E.C       817 non-null    float64\n",
      " 6   TDS       817 non-null    float64\n",
      " 7   CO3       817 non-null    float64\n",
      " 8   HCO3      817 non-null    float64\n",
      " 9   Cl        817 non-null    float64\n",
      " 10  F         817 non-null    float64\n",
      " 11  NO3       817 non-null    float64\n",
      " 12  SO4       817 non-null    float64\n",
      " 13  Na        817 non-null    float64\n",
      " 14  K         817 non-null    float64\n",
      " 15  Ca        817 non-null    float64\n",
      " 16  Mg        817 non-null    float64\n",
      " 17  T.H       817 non-null    float64\n",
      " 18  SAR       817 non-null    float64\n",
      " 19  RSC       817 non-null    float64\n",
      "dtypes: float64(20)\n",
      "memory usage: 134.0 KB\n"
     ]
    }
   ],
   "source": [
    "# Standardizing Data\n",
    "scaler = StandardScaler()\n",
    "scaled_data = scaler.fit_transform(ground_water_df[numeric])\n",
    "\n",
    "ground_water_df[numeric] = scaled_data\n",
    "\n",
    "ground_water_df[numeric].info()"
   ]
  },
  {
   "cell_type": "code",
   "execution_count": 95,
   "metadata": {},
   "outputs": [
    {
     "data": {
      "text/html": [
       "<div>\n",
       "<style scoped>\n",
       "    .dataframe tbody tr th:only-of-type {\n",
       "        vertical-align: middle;\n",
       "    }\n",
       "\n",
       "    .dataframe tbody tr th {\n",
       "        vertical-align: top;\n",
       "    }\n",
       "\n",
       "    .dataframe thead th {\n",
       "        text-align: right;\n",
       "    }\n",
       "</style>\n",
       "<table border=\"1\" class=\"dataframe\">\n",
       "  <thead>\n",
       "    <tr style=\"text-align: right;\">\n",
       "      <th></th>\n",
       "      <th>RSC</th>\n",
       "      <th>SAR</th>\n",
       "      <th>Na</th>\n",
       "      <th>E.C</th>\n",
       "      <th>TDS</th>\n",
       "      <th>HCO3</th>\n",
       "      <th>pH</th>\n",
       "      <th>Classification.1</th>\n",
       "      <th>mandal_Abdullapurmet</th>\n",
       "      <th>mandal_Achampet</th>\n",
       "      <th>...</th>\n",
       "      <th>village_Yenkiryal</th>\n",
       "      <th>village_Yennaram</th>\n",
       "      <th>village_Yenugonda</th>\n",
       "      <th>village_Yeravaguda</th>\n",
       "      <th>village_Yerkaram</th>\n",
       "      <th>village_Yerrapahad</th>\n",
       "      <th>village_Zafergad</th>\n",
       "      <th>village_Zaptisingaipally</th>\n",
       "      <th>village_kanagala</th>\n",
       "      <th>village_perkit</th>\n",
       "    </tr>\n",
       "  </thead>\n",
       "  <tbody>\n",
       "    <tr>\n",
       "      <th>0</th>\n",
       "      <td>-0.397517</td>\n",
       "      <td>-0.269850</td>\n",
       "      <td>-0.217122</td>\n",
       "      <td>-0.058802</td>\n",
       "      <td>-0.057868</td>\n",
       "      <td>-0.167582</td>\n",
       "      <td>0.554699</td>\n",
       "      <td>0</td>\n",
       "      <td>False</td>\n",
       "      <td>False</td>\n",
       "      <td>...</td>\n",
       "      <td>False</td>\n",
       "      <td>False</td>\n",
       "      <td>False</td>\n",
       "      <td>False</td>\n",
       "      <td>False</td>\n",
       "      <td>False</td>\n",
       "      <td>False</td>\n",
       "      <td>False</td>\n",
       "      <td>False</td>\n",
       "      <td>False</td>\n",
       "    </tr>\n",
       "    <tr>\n",
       "      <th>1</th>\n",
       "      <td>0.381974</td>\n",
       "      <td>-0.725000</td>\n",
       "      <td>-0.919357</td>\n",
       "      <td>-1.482665</td>\n",
       "      <td>-1.482833</td>\n",
       "      <td>-1.650267</td>\n",
       "      <td>0.951455</td>\n",
       "      <td>0</td>\n",
       "      <td>False</td>\n",
       "      <td>False</td>\n",
       "      <td>...</td>\n",
       "      <td>False</td>\n",
       "      <td>False</td>\n",
       "      <td>False</td>\n",
       "      <td>False</td>\n",
       "      <td>False</td>\n",
       "      <td>False</td>\n",
       "      <td>False</td>\n",
       "      <td>False</td>\n",
       "      <td>False</td>\n",
       "      <td>False</td>\n",
       "    </tr>\n",
       "    <tr>\n",
       "      <th>2</th>\n",
       "      <td>1.101503</td>\n",
       "      <td>0.308313</td>\n",
       "      <td>0.109269</td>\n",
       "      <td>-0.239994</td>\n",
       "      <td>-0.239528</td>\n",
       "      <td>0.690815</td>\n",
       "      <td>0.438006</td>\n",
       "      <td>1</td>\n",
       "      <td>False</td>\n",
       "      <td>False</td>\n",
       "      <td>...</td>\n",
       "      <td>False</td>\n",
       "      <td>False</td>\n",
       "      <td>False</td>\n",
       "      <td>False</td>\n",
       "      <td>False</td>\n",
       "      <td>False</td>\n",
       "      <td>False</td>\n",
       "      <td>False</td>\n",
       "      <td>False</td>\n",
       "      <td>False</td>\n",
       "    </tr>\n",
       "    <tr>\n",
       "      <th>3</th>\n",
       "      <td>0.441934</td>\n",
       "      <td>0.021282</td>\n",
       "      <td>-0.029200</td>\n",
       "      <td>-0.114670</td>\n",
       "      <td>-0.114489</td>\n",
       "      <td>0.300635</td>\n",
       "      <td>0.484683</td>\n",
       "      <td>0</td>\n",
       "      <td>False</td>\n",
       "      <td>False</td>\n",
       "      <td>...</td>\n",
       "      <td>False</td>\n",
       "      <td>False</td>\n",
       "      <td>False</td>\n",
       "      <td>False</td>\n",
       "      <td>False</td>\n",
       "      <td>False</td>\n",
       "      <td>False</td>\n",
       "      <td>False</td>\n",
       "      <td>False</td>\n",
       "      <td>False</td>\n",
       "    </tr>\n",
       "    <tr>\n",
       "      <th>4</th>\n",
       "      <td>0.022209</td>\n",
       "      <td>-0.282152</td>\n",
       "      <td>-0.227013</td>\n",
       "      <td>0.009145</td>\n",
       "      <td>0.008190</td>\n",
       "      <td>0.378671</td>\n",
       "      <td>0.718069</td>\n",
       "      <td>0</td>\n",
       "      <td>False</td>\n",
       "      <td>False</td>\n",
       "      <td>...</td>\n",
       "      <td>False</td>\n",
       "      <td>False</td>\n",
       "      <td>False</td>\n",
       "      <td>False</td>\n",
       "      <td>False</td>\n",
       "      <td>False</td>\n",
       "      <td>False</td>\n",
       "      <td>False</td>\n",
       "      <td>False</td>\n",
       "      <td>False</td>\n",
       "    </tr>\n",
       "  </tbody>\n",
       "</table>\n",
       "<p>5 rows × 1264 columns</p>\n",
       "</div>"
      ],
      "text/plain": [
       "        RSC       SAR        Na       E.C       TDS      HCO3        pH  \\\n",
       "0 -0.397517 -0.269850 -0.217122 -0.058802 -0.057868 -0.167582  0.554699   \n",
       "1  0.381974 -0.725000 -0.919357 -1.482665 -1.482833 -1.650267  0.951455   \n",
       "2  1.101503  0.308313  0.109269 -0.239994 -0.239528  0.690815  0.438006   \n",
       "3  0.441934  0.021282 -0.029200 -0.114670 -0.114489  0.300635  0.484683   \n",
       "4  0.022209 -0.282152 -0.227013  0.009145  0.008190  0.378671  0.718069   \n",
       "\n",
       "   Classification.1  mandal_Abdullapurmet  mandal_Achampet  ...  \\\n",
       "0                 0                 False            False  ...   \n",
       "1                 0                 False            False  ...   \n",
       "2                 1                 False            False  ...   \n",
       "3                 0                 False            False  ...   \n",
       "4                 0                 False            False  ...   \n",
       "\n",
       "   village_Yenkiryal  village_Yennaram  village_Yenugonda  village_Yeravaguda  \\\n",
       "0              False             False              False               False   \n",
       "1              False             False              False               False   \n",
       "2              False             False              False               False   \n",
       "3              False             False              False               False   \n",
       "4              False             False              False               False   \n",
       "\n",
       "   village_Yerkaram  village_Yerrapahad  village_Zafergad  \\\n",
       "0             False               False             False   \n",
       "1             False               False             False   \n",
       "2             False               False             False   \n",
       "3             False               False             False   \n",
       "4             False               False             False   \n",
       "\n",
       "   village_Zaptisingaipally  village_kanagala  village_perkit  \n",
       "0                     False             False           False  \n",
       "1                     False             False           False  \n",
       "2                     False             False           False  \n",
       "3                     False             False           False  \n",
       "4                     False             False           False  \n",
       "\n",
       "[5 rows x 1264 columns]"
      ]
     },
     "execution_count": 95,
     "metadata": {},
     "output_type": "execute_result"
    }
   ],
   "source": [
    "# Extracting Chosen Feature to Dataframe\n",
    "working_gw_df = ground_water_df[['RSC', 'SAR', 'Na', 'E.C', 'TDS', 'HCO3', 'pH', 'mandal', 'village', 'Classification.1']]\n",
    "working_gw_df = working_gw_df.replace('MR', 'U.S.')\n",
    "\n",
    "# Changing the Classification.1 to Numeric Valyes (P.S. = 0, U.S. = 1)\n",
    "le = LabelEncoder()\n",
    "working_gw_df['Classification.1']= le.fit_transform(working_gw_df['Classification.1']) \n",
    "\n",
    "# One-hot encode 'mandal' and 'village' columns separately\n",
    "mandal_dummies = pd.get_dummies(working_gw_df['mandal'], prefix='mandal')\n",
    "village_dummies = pd.get_dummies(working_gw_df['village'], prefix='village')\n",
    "\n",
    "# Concatenate the encoded columns with the original DataFrame\n",
    "working_gw_df_encoded = pd.concat([working_gw_df.drop(['mandal', 'village'], axis=1), mandal_dummies, village_dummies], axis=1)\n",
    "\n",
    "# Display the modified DataFrame\n",
    "working_gw_df_encoded.head()"
   ]
  },
  {
   "cell_type": "markdown",
   "metadata": {},
   "source": [
    "# Logistic Regression\n",
    "referenced: https://towardsdatascience.com/building-a-logistic-regression-in-python-step-by-step-becd4d56c9c8, \n",
    "https://towardsdatascience.com/logistic-regression-model-tuning-with-scikit-learn-part-1-425142e01af5\n",
    "\n",
    "***"
   ]
  },
  {
   "cell_type": "code",
   "execution_count": 96,
   "metadata": {},
   "outputs": [],
   "source": [
    "# Splitting Data\n",
    "X = working_gw_df_encoded.drop(['Classification.1'], axis = 1)\n",
    "y = working_gw_df_encoded['Classification.1']\n",
    "\n",
    "X_train, X_test, y_train, y_test = train_test_split(X, y, test_size = 0.4)\n",
    "\n",
    "sm = SMOTE(random_state = 2)\n",
    "X_train_res, y_train_res = sm.fit_resample(X_train, y_train.ravel())"
   ]
  },
  {
   "cell_type": "code",
   "execution_count": 97,
   "metadata": {},
   "outputs": [
    {
     "name": "stdout",
     "output_type": "stream",
     "text": [
      "Best: 1.000000 using {'C': 100, 'penalty': 'l2', 'solver': 'newton-cg'}\n",
      "1.000000 (0.000000) with: {'C': 100, 'penalty': 'l2', 'solver': 'newton-cg'}\n",
      "1.000000 (0.000000) with: {'C': 100, 'penalty': 'l2', 'solver': 'lbfgs'}\n",
      "1.000000 (0.000000) with: {'C': 100, 'penalty': 'l2', 'solver': 'liblinear'}\n",
      "1.000000 (0.000000) with: {'C': 10, 'penalty': 'l2', 'solver': 'newton-cg'}\n",
      "1.000000 (0.000000) with: {'C': 10, 'penalty': 'l2', 'solver': 'lbfgs'}\n",
      "0.999263 (0.002756) with: {'C': 10, 'penalty': 'l2', 'solver': 'liblinear'}\n",
      "0.997798 (0.004404) with: {'C': 1.0, 'penalty': 'l2', 'solver': 'newton-cg'}\n",
      "0.997798 (0.004404) with: {'C': 1.0, 'penalty': 'l2', 'solver': 'lbfgs'}\n",
      "0.995600 (0.007293) with: {'C': 1.0, 'penalty': 'l2', 'solver': 'liblinear'}\n",
      "0.988999 (0.012375) with: {'C': 0.1, 'penalty': 'l2', 'solver': 'newton-cg'}\n",
      "0.988999 (0.012375) with: {'C': 0.1, 'penalty': 'l2', 'solver': 'lbfgs'}\n",
      "0.978348 (0.015950) with: {'C': 0.1, 'penalty': 'l2', 'solver': 'liblinear'}\n",
      "0.961823 (0.019665) with: {'C': 0.01, 'penalty': 'l2', 'solver': 'newton-cg'}\n",
      "0.961823 (0.019665) with: {'C': 0.01, 'penalty': 'l2', 'solver': 'lbfgs'}\n",
      "0.949731 (0.022819) with: {'C': 0.01, 'penalty': 'l2', 'solver': 'liblinear'}\n"
     ]
    }
   ],
   "source": [
    "# parameter finetuning with grid search\n",
    "model = LogisticRegression()\n",
    "solvers = ['newton-cg', 'lbfgs', 'liblinear']\n",
    "penalty = ['l2']\n",
    "c_values = [100, 10, 1.0, 0.1, 0.01]\n",
    "\n",
    "# define grid search\n",
    "grid = dict(solver=solvers,penalty=penalty,C=c_values)\n",
    "cv = RepeatedStratifiedKFold(n_splits=10, n_repeats=3, random_state=1)\n",
    "grid_search = GridSearchCV(estimator=model, param_grid=grid, n_jobs=-1, cv=cv, scoring='accuracy',error_score=0)\n",
    "grid_result = grid_search.fit(X_train_res, y_train_res)\n",
    "\n",
    "# summarize results\n",
    "print(\"Best: %f using %s\" % (grid_result.best_score_, grid_result.best_params_))\n",
    "means = grid_result.cv_results_['mean_test_score']\n",
    "stds = grid_result.cv_results_['std_test_score']\n",
    "params = grid_result.cv_results_['params']\n",
    "for mean, stdev, param in zip(means, stds, params):\n",
    "    print(\"%f (%f) with: %r\" % (mean, stdev, param))"
   ]
  },
  {
   "cell_type": "code",
   "execution_count": 128,
   "metadata": {},
   "outputs": [],
   "source": [
    "# Logistic Regression\n",
    "logreg = LogisticRegression()\n",
    "logreg.fit(X_train_res, y_train_res)\n",
    "\n",
    "y_pred = logreg.predict(X_test)"
   ]
  },
  {
   "cell_type": "code",
   "execution_count": 129,
   "metadata": {},
   "outputs": [
    {
     "name": "stdout",
     "output_type": "stream",
     "text": [
      "Accuracy of Logistic Regression classifier: 0.99\n"
     ]
    }
   ],
   "source": [
    "# Accuracy Test\n",
    "accuracy = accuracy_score(y_test, y_pred)\n",
    "print('Accuracy of Logistic Regression classifier: {:.2f}'.format(accuracy))"
   ]
  },
  {
   "cell_type": "code",
   "execution_count": 130,
   "metadata": {},
   "outputs": [
    {
     "name": "stdout",
     "output_type": "stream",
     "text": [
      "Correctly Classified: 323\n",
      "Incorrectly Classified: 4\n"
     ]
    },
    {
     "data": {
      "image/png": "[encoded data removed]",
      "text/plain": [
       "<Figure size 640x480 with 2 Axes>"
      ]
     },
     "metadata": {},
     "output_type": "display_data"
    }
   ],
   "source": [
    "# Confusion Matrix\n",
    "cm = confusion_matrix(y_test, y_pred, labels=logreg.classes_)\n",
    "disp = ConfusionMatrixDisplay(confusion_matrix=cm, display_labels=['P.S.', 'U.S.'])\n",
    "disp.plot().figure_.savefig('LOG_CM.png')\n",
    "correct = cm[0][0] + cm[1][1]\n",
    "incorrect = cm[0][1] + cm [1][0]\n",
    "print('Correctly Classified:', correct)\n",
    "print('Incorrectly Classified:', incorrect)"
   ]
  },
  {
   "cell_type": "code",
   "execution_count": 131,
   "metadata": {},
   "outputs": [
    {
     "name": "stdout",
     "output_type": "stream",
     "text": [
      "              precision    recall  f1-score   support\n",
      "\n",
      "           0       0.99      1.00      0.99       296\n",
      "           1       1.00      0.87      0.93        31\n",
      "\n",
      "    accuracy                           0.99       327\n",
      "   macro avg       0.99      0.94      0.96       327\n",
      "weighted avg       0.99      0.99      0.99       327\n",
      "\n"
     ]
    }
   ],
   "source": [
    "# Classification Report\n",
    "print(classification_report(y_test, y_pred))"
   ]
  },
  {
   "cell_type": "code",
   "execution_count": 132,
   "metadata": {},
   "outputs": [
    {
     "data": {
      "image/png": "[encoded data removed]",
      "text/plain": [
       "<Figure size 640x480 with 1 Axes>"
      ]
     },
     "metadata": {},
     "output_type": "display_data"
    }
   ],
   "source": [
    "# ROC Curve\n",
    "logit_roc_auc = roc_auc_score(y_test, logreg.predict(X_test))\n",
    "fpr, tpr, thresholds = roc_curve(y_test, logreg.predict_proba(X_test)[:,1])\n",
    "plt.figure()\n",
    "plt.plot(fpr, tpr, label='Logistic Regression (area = %0.2f)' % logit_roc_auc)\n",
    "plt.plot([0, 1], [0, 1],'r--')\n",
    "plt.xlim([0.0, 1.0])\n",
    "plt.ylim([0.0, 1.05])\n",
    "plt.xlabel('False Positive Rate')\n",
    "plt.ylabel('True Positive Rate')\n",
    "plt.title('Receiver operating characteristic')\n",
    "plt.legend(loc=\"lower right\")\n",
    "plt.savefig('Log_ROC')\n",
    "plt.show()"
   ]
  }
 ],
 "metadata": {
  "kernelspec": {
   "display_name": "Python 3",
   "language": "python",
   "name": "python3"
  },
  "language_info": {
   "codemirror_mode": {
    "name": "ipython",
    "version": 3
   },
   "file_extension": ".py",
   "mimetype": "text/x-python",
   "name": "python",
   "nbconvert_exporter": "python",
   "pygments_lexer": "ipython3",
   "version": "3.9.13"
  }
 },
 "nbformat": 4,
 "nbformat_minor": 2
}
