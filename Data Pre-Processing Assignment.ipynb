{
 "cells": [
  {
   "cell_type": "markdown",
   "id": "278f4967",
   "metadata": {},
   "source": [
    "# Data Pre-Processing Assignment\n",
    "\n",
    "### Brayan Gutierrez, Katie To, Jericka Ledezma\n",
    "***"
   ]
  },
  {
   "cell_type": "code",
   "execution_count": 1,
   "id": "c3d2e0c1",
   "metadata": {},
   "outputs": [],
   "source": [
    "import pandas as pd\n",
    "import numpy as np\n",
    "import matplotlib.pyplot as plt\n",
    "from sklearn.preprocessing import normalize\n",
    "from sklearn.preprocessing import LabelEncoder\n",
    "from sklearn.preprocessing import OrdinalEncoder\n",
    "from sklearn.feature_selection import SelectKBest\n",
    "from sklearn.feature_selection import chi2\n",
    "from sklearn.model_selection import train_test_split\n",
    "from sklearn.feature_selection import SelectKBest\n",
    "from sklearn.feature_selection import f_classif\n",
    "from sklearn.feature_selection import mutual_info_classif\n",
    "from sklearn.feature_selection import RFE\n",
    "from sklearn.linear_model import LogisticRegression\n",
    "from sklearn.decomposition import PCA"
   ]
  },
  {
   "cell_type": "markdown",
   "id": "c44be815",
   "metadata": {},
   "source": [
    "## Reading Data"
   ]
  },
  {
   "cell_type": "code",
   "execution_count": 2,
   "id": "e54a2637",
   "metadata": {},
   "outputs": [
    {
     "name": "stdout",
     "output_type": "stream",
     "text": [
      "      sno  district       mandal      village  lat_gis  long_gis  RL_GIS  \\\n",
      "0       1  ADILABAD     Adilabad     Adilabad    78.52     19.67   253.0   \n",
      "1       2  ADILABAD  Bazarhatnur  Bazarhatnur    78.35     19.46   435.0   \n",
      "2       3  ADILABAD         Bela   Chandpally    78.85     19.68   247.0   \n",
      "3       4  ADILABAD     Bheempur         Arli    78.38     19.83   224.0   \n",
      "4       5  ADILABAD     Bheempur     Bheempur    78.42     19.77   245.0   \n",
      "...   ...       ...          ...          ...      ...       ...     ...   \n",
      "1019   31   YADADRI    Valigonda   T. somaram    78.95     17.40   339.0   \n",
      "1020   32   YADADRI    Valigonda  Varkatpally    78.93     17.34   339.0   \n",
      "1021   33   YADADRI    Valigonda  Vemulakonda    79.14     17.35   265.0   \n",
      "1022   34   YADADRI      Y.Gutta   Mallapuram    78.91     17.63   439.0   \n",
      "1023   35   YADADRI      Y.Gutta   Motakondur    79.03     17.55   342.0   \n",
      "\n",
      "                 season    pH     E.C  ...    SO4     Na     K     Ca    Mg  \\\n",
      "0     Post-monsoon 2021  8.04  1065.0  ...   69.0   85.0   3.0   64.0  53.0   \n",
      "1     Post-monsoon 2021  8.21   122.0  ...    9.0   14.0   2.0    8.0  10.0   \n",
      "2     Post-monsoon 2021  7.99   945.0  ...   13.0  118.0   3.0   40.0  34.0   \n",
      "3     Post-monsoon 2021  8.01  1028.0  ...   15.0  104.0   9.0   40.0  49.0   \n",
      "4     Post-monsoon 2021  8.11  1110.0  ...   13.0   84.0   2.0   72.0  49.0   \n",
      "...                 ...   ...     ...  ...    ...    ...   ...    ...   ...   \n",
      "1019  Post-monsoon 2021  8.06  1287.0  ...  106.0  162.0   4.0  104.0  19.0   \n",
      "1020  Post-monsoon 2021  7.20  2284.0  ...  136.0  229.0  18.0  200.0  58.0   \n",
      "1021  Post-monsoon 2021  7.44  3352.0  ...  266.0  322.0   3.0  320.0  63.0   \n",
      "1022  Post-monsoon 2021  8.01   510.0  ...   42.0   42.0   2.0   64.0  15.0   \n",
      "1023  Post-monsoon 2021  7.14   651.0  ...   14.0   31.0   4.0  128.0  10.0   \n",
      "\n",
      "         T.H   SAR  Classification  RSC  meq  / L  Classification.1  \n",
      "0      380.0  1.90            C3S1           -3.0              P.S.  \n",
      "1       60.0  0.79            C1S1           -0.4              P.S.  \n",
      "2      240.0  3.31            C3S1            2.0                MR  \n",
      "3      300.0  2.61            C3S1           -0.2              P.S.  \n",
      "4      380.0  1.87            C3S1           -1.6              P.S.  \n",
      "...      ...   ...             ...            ...               ...  \n",
      "1019   340.0  3.82            C3S1            0.2              P.S.  \n",
      "1020   740.0  3.66            C4S1           -7.2              P.S.  \n",
      "1021  1060.0  4.30            C4S2          -16.0              P.S.  \n",
      "1022   220.0  1.23            C2S1            0.4              P.S.  \n",
      "1023   360.0  0.71            C2S1           -0.6              P.S.  \n",
      "\n",
      "[817 rows x 26 columns]\n"
     ]
    }
   ],
   "source": [
    "ground_water = pd.read_csv(\"ground_water_quality_2022_post.csv\")\n",
    "ground_water_df = pd.DataFrame(ground_water)\n",
    "ground_water_df = ground_water_df.dropna()\n",
    "print(ground_water_df)"
   ]
  },
  {
   "cell_type": "markdown",
   "id": "611eb7ee",
   "metadata": {},
   "source": [
    "## Data Cleaning\n",
    "***"
   ]
  },
  {
   "cell_type": "code",
   "execution_count": 3,
   "id": "da69b16a",
   "metadata": {},
   "outputs": [
    {
     "name": "stdout",
     "output_type": "stream",
     "text": [
      "<class 'pandas.core.frame.DataFrame'>\n",
      "Int64Index: 817 entries, 0 to 1023\n",
      "Data columns (total 26 columns):\n",
      " #   Column            Non-Null Count  Dtype  \n",
      "---  ------            --------------  -----  \n",
      " 0   sno               817 non-null    int64  \n",
      " 1   district          817 non-null    object \n",
      " 2   mandal            817 non-null    object \n",
      " 3   village           817 non-null    object \n",
      " 4   lat_gis           817 non-null    float64\n",
      " 5   long_gis          817 non-null    float64\n",
      " 6   RL_GIS            817 non-null    float64\n",
      " 7   season            817 non-null    object \n",
      " 8   pH                817 non-null    float64\n",
      " 9   E.C               817 non-null    float64\n",
      " 10  TDS               817 non-null    float64\n",
      " 11  CO3               817 non-null    float64\n",
      " 12  HCO3              817 non-null    float64\n",
      " 13  Cl                817 non-null    float64\n",
      " 14  F                 817 non-null    float64\n",
      " 15  NO3               817 non-null    float64\n",
      " 16  SO4               817 non-null    float64\n",
      " 17  Na                817 non-null    float64\n",
      " 18  K                 817 non-null    float64\n",
      " 19  Ca                817 non-null    float64\n",
      " 20  Mg                817 non-null    float64\n",
      " 21  T.H               817 non-null    float64\n",
      " 22  SAR               817 non-null    float64\n",
      " 23  Classification    817 non-null    object \n",
      " 24  RSC  meq  / L     817 non-null    float64\n",
      " 25  Classification.1  817 non-null    object \n",
      "dtypes: float64(19), int64(1), object(6)\n",
      "memory usage: 172.3+ KB\n"
     ]
    }
   ],
   "source": [
    "ground_water_df['pH'] = pd.to_numeric(ground_water_df['pH'], errors='coerce')\n",
    "ground_water_df.info(verbose=True)"
   ]
  },
  {
   "cell_type": "markdown",
   "id": "ec783cc0",
   "metadata": {},
   "source": [
    "### Separating Numeric and Non-numeric Columns"
   ]
  },
  {
   "cell_type": "code",
   "execution_count": 4,
   "id": "3081d94b",
   "metadata": {},
   "outputs": [
    {
     "name": "stdout",
     "output_type": "stream",
     "text": [
      "Index(['sno', 'lat_gis', 'long_gis', 'RL_GIS', 'pH', 'E.C', 'TDS', 'CO3',\n",
      "       'HCO3', 'Cl', 'F', 'NO3', 'SO4', 'Na', 'K', 'Ca', 'Mg', 'T.H', 'SAR',\n",
      "       'RSC'],\n",
      "      dtype='object')\n",
      "Index(['district', 'mandal', 'village', 'season', 'Classification',\n",
      "       'Classification.1'],\n",
      "      dtype='object')\n"
     ]
    }
   ],
   "source": [
    "ground_water_df = ground_water_df.rename(columns = {'NO3 ': 'NO3'})\n",
    "ground_water_df = ground_water_df.rename(columns = {'RSC  meq  / L': 'RSC'})\n",
    "numeric = ground_water_df.select_dtypes(include=['number']).columns\n",
    "nonnumeric = ground_water_df.select_dtypes(exclude=['number']).columns\n",
    "\n",
    "print(numeric)\n",
    "print(nonnumeric)"
   ]
  },
  {
   "cell_type": "markdown",
   "id": "856a78e8",
   "metadata": {},
   "source": [
    "### Finding Missing Data"
   ]
  },
  {
   "cell_type": "code",
   "execution_count": 5,
   "id": "49bda89c",
   "metadata": {},
   "outputs": [
    {
     "name": "stdout",
     "output_type": "stream",
     "text": [
      "<class 'pandas.core.frame.DataFrame'>\n",
      "Int64Index: 817 entries, 0 to 1023\n",
      "Data columns (total 6 columns):\n",
      " #   Column            Non-Null Count  Dtype \n",
      "---  ------            --------------  ----- \n",
      " 0   district          817 non-null    object\n",
      " 1   mandal            817 non-null    object\n",
      " 2   village           817 non-null    object\n",
      " 3   season            817 non-null    object\n",
      " 4   Classification    817 non-null    object\n",
      " 5   Classification.1  817 non-null    object\n",
      "dtypes: object(6)\n",
      "memory usage: 44.7+ KB\n"
     ]
    }
   ],
   "source": [
    "ground_water_df[nonnumeric].info()"
   ]
  },
  {
   "cell_type": "code",
   "execution_count": 6,
   "id": "c4f40052",
   "metadata": {},
   "outputs": [
    {
     "name": "stdout",
     "output_type": "stream",
     "text": [
      "<class 'pandas.core.frame.DataFrame'>\n",
      "Int64Index: 817 entries, 0 to 1023\n",
      "Data columns (total 20 columns):\n",
      " #   Column    Non-Null Count  Dtype  \n",
      "---  ------    --------------  -----  \n",
      " 0   sno       817 non-null    int64  \n",
      " 1   lat_gis   817 non-null    float64\n",
      " 2   long_gis  817 non-null    float64\n",
      " 3   RL_GIS    817 non-null    float64\n",
      " 4   pH        817 non-null    float64\n",
      " 5   E.C       817 non-null    float64\n",
      " 6   TDS       817 non-null    float64\n",
      " 7   CO3       817 non-null    float64\n",
      " 8   HCO3      817 non-null    float64\n",
      " 9   Cl        817 non-null    float64\n",
      " 10  F         817 non-null    float64\n",
      " 11  NO3       817 non-null    float64\n",
      " 12  SO4       817 non-null    float64\n",
      " 13  Na        817 non-null    float64\n",
      " 14  K         817 non-null    float64\n",
      " 15  Ca        817 non-null    float64\n",
      " 16  Mg        817 non-null    float64\n",
      " 17  T.H       817 non-null    float64\n",
      " 18  SAR       817 non-null    float64\n",
      " 19  RSC       817 non-null    float64\n",
      "dtypes: float64(19), int64(1)\n",
      "memory usage: 134.0 KB\n"
     ]
    }
   ],
   "source": [
    "ground_water_df[numeric].info()"
   ]
  },
  {
   "cell_type": "markdown",
   "id": "1f65a4a8",
   "metadata": {},
   "source": [
    "### No missing data!!"
   ]
  },
  {
   "cell_type": "markdown",
   "id": "30f267ba",
   "metadata": {},
   "source": [
    "## Outlier Detection"
   ]
  },
  {
   "cell_type": "markdown",
   "id": "eb680801",
   "metadata": {},
   "source": [
    "### We will be using histograms and boxplots for each numeric variable to determine any possible outliers:"
   ]
  },
  {
   "cell_type": "markdown",
   "id": "1f3de822",
   "metadata": {},
   "source": [
    "#### Serial Number (sno)"
   ]
  },
  {
   "cell_type": "code",
   "execution_count": 7,
   "id": "eed1f0ff",
   "metadata": {},
   "outputs": [
    {
     "data": {
      "text/plain": [
       "<AxesSubplot:>"
      ]
     },
     "execution_count": 7,
     "metadata": {},
     "output_type": "execute_result"
    },
    {
     "data": {
      "image/png": "[encoded data removed]",
      "text/plain": [
       "<Figure size 432x288 with 1 Axes>"
      ]
     },
     "metadata": {
      "needs_background": "light"
     },
     "output_type": "display_data"
    }
   ],
   "source": [
    "ground_water_df['sno'].hist(bins = 1000)"
   ]
  },
  {
   "cell_type": "code",
   "execution_count": 8,
   "id": "9ca84136",
   "metadata": {},
   "outputs": [
    {
     "data": {
      "text/plain": [
       "<AxesSubplot:>"
      ]
     },
     "execution_count": 8,
     "metadata": {},
     "output_type": "execute_result"
    },
    {
     "data": {
      "image/png": "[encoded data removed]",
      "text/plain": [
       "<Figure size 432x288 with 1 Axes>"
      ]
     },
     "metadata": {
      "needs_background": "light"
     },
     "output_type": "display_data"
    }
   ],
   "source": [
    "ground_water_df.boxplot(column=['sno'])"
   ]
  },
  {
   "cell_type": "markdown",
   "id": "d79b5e84",
   "metadata": {},
   "source": [
    "#### Lattitude (lat_gis)"
   ]
  },
  {
   "cell_type": "code",
   "execution_count": 9,
   "id": "d4d978ba",
   "metadata": {},
   "outputs": [
    {
     "data": {
      "text/plain": [
       "<AxesSubplot:>"
      ]
     },
     "execution_count": 9,
     "metadata": {},
     "output_type": "execute_result"
    },
    {
     "data": {
      "image/png": "[encoded data removed]",
      "text/plain": [
       "<Figure size 432x288 with 1 Axes>"
      ]
     },
     "metadata": {
      "needs_background": "light"
     },
     "output_type": "display_data"
    }
   ],
   "source": [
    "ground_water_df['lat_gis'].hist(bins = 1000)"
   ]
  },
  {
   "cell_type": "code",
   "execution_count": 10,
   "id": "6788151e",
   "metadata": {},
   "outputs": [
    {
     "data": {
      "text/plain": [
       "<AxesSubplot:>"
      ]
     },
     "execution_count": 10,
     "metadata": {},
     "output_type": "execute_result"
    },
    {
     "data": {
      "image/png": "[encoded data removed]",
      "text/plain": [
       "<Figure size 432x288 with 1 Axes>"
      ]
     },
     "metadata": {
      "needs_background": "light"
     },
     "output_type": "display_data"
    }
   ],
   "source": [
    "ground_water_df.boxplot(column=['lat_gis'])"
   ]
  },
  {
   "cell_type": "markdown",
   "id": "dceef861",
   "metadata": {},
   "source": [
    "#### Longitude (long_gis)"
   ]
  },
  {
   "cell_type": "code",
   "execution_count": 11,
   "id": "361f1522",
   "metadata": {},
   "outputs": [
    {
     "data": {
      "text/plain": [
       "<AxesSubplot:>"
      ]
     },
     "execution_count": 11,
     "metadata": {},
     "output_type": "execute_result"
    },
    {
     "data": {
      "image/png": "[encoded data removed]",
      "text/plain": [
       "<Figure size 432x288 with 1 Axes>"
      ]
     },
     "metadata": {
      "needs_background": "light"
     },
     "output_type": "display_data"
    }
   ],
   "source": [
    "ground_water_df['long_gis'].hist(bins = 1000)"
   ]
  },
  {
   "cell_type": "code",
   "execution_count": 12,
   "id": "1d8445c3",
   "metadata": {},
   "outputs": [
    {
     "data": {
      "text/plain": [
       "<AxesSubplot:>"
      ]
     },
     "execution_count": 12,
     "metadata": {},
     "output_type": "execute_result"
    },
    {
     "data": {
      "image/png": "[encoded data removed]",
      "text/plain": [
       "<Figure size 432x288 with 1 Axes>"
      ]
     },
     "metadata": {
      "needs_background": "light"
     },
     "output_type": "display_data"
    }
   ],
   "source": [
    "ground_water_df.boxplot(column=['long_gis'])"
   ]
  },
  {
   "cell_type": "markdown",
   "id": "077323be",
   "metadata": {},
   "source": [
    "#### Ground Water Level (gwl)"
   ]
  },
  {
   "cell_type": "code",
   "execution_count": 13,
   "id": "908eb0b1",
   "metadata": {},
   "outputs": [
    {
     "data": {
      "text/plain": [
       "<AxesSubplot:>"
      ]
     },
     "execution_count": 13,
     "metadata": {},
     "output_type": "execute_result"
    },
    {
     "data": {
      "image/png": "[encoded data removed]",
      "text/plain": [
       "<Figure size 432x288 with 1 Axes>"
      ]
     },
     "metadata": {
      "needs_background": "light"
     },
     "output_type": "display_data"
    }
   ],
   "source": [
    "ground_water_df['RL_GIS'].hist(bins = 1000)"
   ]
  },
  {
   "cell_type": "code",
   "execution_count": 14,
   "id": "e1401b13",
   "metadata": {},
   "outputs": [
    {
     "data": {
      "text/plain": [
       "<AxesSubplot:>"
      ]
     },
     "execution_count": 14,
     "metadata": {},
     "output_type": "execute_result"
    },
    {
     "data": {
      "image/png": "[encoded data removed]",
      "text/plain": [
       "<Figure size 432x288 with 1 Axes>"
      ]
     },
     "metadata": {
      "needs_background": "light"
     },
     "output_type": "display_data"
    }
   ],
   "source": [
    "ground_water_df.boxplot(column=['RL_GIS'])"
   ]
  },
  {
   "cell_type": "markdown",
   "id": "8e7e8632",
   "metadata": {},
   "source": [
    "#### pH"
   ]
  },
  {
   "cell_type": "code",
   "execution_count": 15,
   "id": "9c11c46d",
   "metadata": {},
   "outputs": [
    {
     "data": {
      "text/plain": [
       "<AxesSubplot:>"
      ]
     },
     "execution_count": 15,
     "metadata": {},
     "output_type": "execute_result"
    },
    {
     "data": {
      "image/png": "[encoded data removed]",
      "text/plain": [
       "<Figure size 432x288 with 1 Axes>"
      ]
     },
     "metadata": {
      "needs_background": "light"
     },
     "output_type": "display_data"
    }
   ],
   "source": [
    "ground_water_df['pH'].hist(bins = 1000)"
   ]
  },
  {
   "cell_type": "code",
   "execution_count": 16,
   "id": "abea2804",
   "metadata": {},
   "outputs": [
    {
     "data": {
      "text/plain": [
       "<AxesSubplot:>"
      ]
     },
     "execution_count": 16,
     "metadata": {},
     "output_type": "execute_result"
    },
    {
     "data": {
      "image/png": "[encoded data removed]",
      "text/plain": [
       "<Figure size 432x288 with 1 Axes>"
      ]
     },
     "metadata": {
      "needs_background": "light"
     },
     "output_type": "display_data"
    }
   ],
   "source": [
    "ground_water_df.boxplot(column=['pH'])"
   ]
  },
  {
   "cell_type": "markdown",
   "id": "a7783f76",
   "metadata": {},
   "source": [
    "#### Electrical Conductivity (E.C)"
   ]
  },
  {
   "cell_type": "code",
   "execution_count": 17,
   "id": "d161124c",
   "metadata": {},
   "outputs": [
    {
     "data": {
      "text/plain": [
       "<AxesSubplot:>"
      ]
     },
     "execution_count": 17,
     "metadata": {},
     "output_type": "execute_result"
    },
    {
     "data": {
      "image/png": "[encoded data removed]",
      "text/plain": [
       "<Figure size 432x288 with 1 Axes>"
      ]
     },
     "metadata": {
      "needs_background": "light"
     },
     "output_type": "display_data"
    }
   ],
   "source": [
    "ground_water_df['E.C'].hist(bins = 1000)"
   ]
  },
  {
   "cell_type": "code",
   "execution_count": 18,
   "id": "4745f4a5",
   "metadata": {},
   "outputs": [
    {
     "data": {
      "text/plain": [
       "<AxesSubplot:>"
      ]
     },
     "execution_count": 18,
     "metadata": {},
     "output_type": "execute_result"
    },
    {
     "data": {
      "image/png": "[encoded data removed]",
      "text/plain": [
       "<Figure size 432x288 with 1 Axes>"
      ]
     },
     "metadata": {
      "needs_background": "light"
     },
     "output_type": "display_data"
    }
   ],
   "source": [
    "ground_water_df.boxplot(column=['E.C'])"
   ]
  },
  {
   "cell_type": "markdown",
   "id": "2ff911e5",
   "metadata": {},
   "source": [
    "#### Total Dissolved Solids (TDS)"
   ]
  },
  {
   "cell_type": "code",
   "execution_count": 19,
   "id": "82884390",
   "metadata": {},
   "outputs": [
    {
     "data": {
      "text/plain": [
       "<AxesSubplot:>"
      ]
     },
     "execution_count": 19,
     "metadata": {},
     "output_type": "execute_result"
    },
    {
     "data": {
      "image/png": "[encoded data removed]",
      "text/plain": [
       "<Figure size 432x288 with 1 Axes>"
      ]
     },
     "metadata": {
      "needs_background": "light"
     },
     "output_type": "display_data"
    }
   ],
   "source": [
    "ground_water_df['TDS'].hist(bins = 1000)"
   ]
  },
  {
   "cell_type": "code",
   "execution_count": 20,
   "id": "de6fcf1b",
   "metadata": {},
   "outputs": [
    {
     "data": {
      "text/plain": [
       "<AxesSubplot:>"
      ]
     },
     "execution_count": 20,
     "metadata": {},
     "output_type": "execute_result"
    },
    {
     "data": {
      "image/png": "[encoded data removed]",
      "text/plain": [
       "<Figure size 432x288 with 1 Axes>"
      ]
     },
     "metadata": {
      "needs_background": "light"
     },
     "output_type": "display_data"
    }
   ],
   "source": [
    "ground_water_df.boxplot(column=['TDS'])"
   ]
  },
  {
   "cell_type": "markdown",
   "id": "e09fb31f",
   "metadata": {},
   "source": [
    "#### Carbonate Present (CO3)"
   ]
  },
  {
   "cell_type": "code",
   "execution_count": 21,
   "id": "7c5cd56e",
   "metadata": {},
   "outputs": [
    {
     "data": {
      "text/plain": [
       "<AxesSubplot:>"
      ]
     },
     "execution_count": 21,
     "metadata": {},
     "output_type": "execute_result"
    },
    {
     "data": {
      "image/png": "[encoded data removed]",
      "text/plain": [
       "<Figure size 432x288 with 1 Axes>"
      ]
     },
     "metadata": {
      "needs_background": "light"
     },
     "output_type": "display_data"
    }
   ],
   "source": [
    "ground_water_df['CO3'].hist(bins = 200)"
   ]
  },
  {
   "cell_type": "code",
   "execution_count": 22,
   "id": "45774bbb",
   "metadata": {},
   "outputs": [
    {
     "data": {
      "text/plain": [
       "<AxesSubplot:>"
      ]
     },
     "execution_count": 22,
     "metadata": {},
     "output_type": "execute_result"
    },
    {
     "data": {
      "image/png": "[encoded data removed]",
      "text/plain": [
       "<Figure size 432x288 with 1 Axes>"
      ]
     },
     "metadata": {
      "needs_background": "light"
     },
     "output_type": "display_data"
    }
   ],
   "source": [
    "ground_water_df.boxplot(column=['CO3'])"
   ]
  },
  {
   "cell_type": "markdown",
   "id": "e53167ff",
   "metadata": {},
   "source": [
    "#### Bicarbonate Present (HCO3)"
   ]
  },
  {
   "cell_type": "code",
   "execution_count": 23,
   "id": "cce57330",
   "metadata": {},
   "outputs": [
    {
     "data": {
      "text/plain": [
       "<AxesSubplot:>"
      ]
     },
     "execution_count": 23,
     "metadata": {},
     "output_type": "execute_result"
    },
    {
     "data": {
      "image/png": "[encoded data removed]",
      "text/plain": [
       "<Figure size 432x288 with 1 Axes>"
      ]
     },
     "metadata": {
      "needs_background": "light"
     },
     "output_type": "display_data"
    }
   ],
   "source": [
    "ground_water_df['HCO3'].hist(bins = 1000)"
   ]
  },
  {
   "cell_type": "code",
   "execution_count": 24,
   "id": "3db8261d",
   "metadata": {},
   "outputs": [
    {
     "data": {
      "text/plain": [
       "<AxesSubplot:>"
      ]
     },
     "execution_count": 24,
     "metadata": {},
     "output_type": "execute_result"
    },
    {
     "data": {
      "image/png": "[encoded data removed]",
      "text/plain": [
       "<Figure size 432x288 with 1 Axes>"
      ]
     },
     "metadata": {
      "needs_background": "light"
     },
     "output_type": "display_data"
    }
   ],
   "source": [
    "ground_water_df.boxplot(column=['HCO3'])"
   ]
  },
  {
   "cell_type": "markdown",
   "id": "b9d85833",
   "metadata": {},
   "source": [
    "#### Chloride Present (Cl)"
   ]
  },
  {
   "cell_type": "code",
   "execution_count": 25,
   "id": "f1b25b9f",
   "metadata": {},
   "outputs": [
    {
     "data": {
      "text/plain": [
       "<AxesSubplot:>"
      ]
     },
     "execution_count": 25,
     "metadata": {},
     "output_type": "execute_result"
    },
    {
     "data": {
      "image/png": "[encoded data removed]",
      "text/plain": [
       "<Figure size 432x288 with 1 Axes>"
      ]
     },
     "metadata": {
      "needs_background": "light"
     },
     "output_type": "display_data"
    }
   ],
   "source": [
    "ground_water_df['Cl'].hist(bins = 1000)"
   ]
  },
  {
   "cell_type": "code",
   "execution_count": 26,
   "id": "ef362338",
   "metadata": {},
   "outputs": [
    {
     "data": {
      "text/plain": [
       "<AxesSubplot:>"
      ]
     },
     "execution_count": 26,
     "metadata": {},
     "output_type": "execute_result"
    },
    {
     "data": {
      "image/png": "[encoded data removed]",
      "text/plain": [
       "<Figure size 432x288 with 1 Axes>"
      ]
     },
     "metadata": {
      "needs_background": "light"
     },
     "output_type": "display_data"
    }
   ],
   "source": [
    "ground_water_df.boxplot(column=['Cl'])"
   ]
  },
  {
   "cell_type": "markdown",
   "id": "cd6a8f3b",
   "metadata": {},
   "source": [
    "#### Flouride Present (F)"
   ]
  },
  {
   "cell_type": "code",
   "execution_count": 27,
   "id": "422c1911",
   "metadata": {},
   "outputs": [
    {
     "data": {
      "text/plain": [
       "<AxesSubplot:>"
      ]
     },
     "execution_count": 27,
     "metadata": {},
     "output_type": "execute_result"
    },
    {
     "data": {
      "image/png": "[encoded data removed]",
      "text/plain": [
       "<Figure size 432x288 with 1 Axes>"
      ]
     },
     "metadata": {
      "needs_background": "light"
     },
     "output_type": "display_data"
    }
   ],
   "source": [
    "ground_water_df['F'].hist(bins = 1000)"
   ]
  },
  {
   "cell_type": "code",
   "execution_count": 28,
   "id": "e79439f5",
   "metadata": {},
   "outputs": [
    {
     "data": {
      "text/plain": [
       "<AxesSubplot:>"
      ]
     },
     "execution_count": 28,
     "metadata": {},
     "output_type": "execute_result"
    },
    {
     "data": {
      "image/png": "[encoded data removed]",
      "text/plain": [
       "<Figure size 432x288 with 1 Axes>"
      ]
     },
     "metadata": {
      "needs_background": "light"
     },
     "output_type": "display_data"
    }
   ],
   "source": [
    "ground_water_df.boxplot(column=['F'])"
   ]
  },
  {
   "cell_type": "markdown",
   "id": "21e44bd7",
   "metadata": {},
   "source": [
    "#### Nitrate Present (NO3)"
   ]
  },
  {
   "cell_type": "code",
   "execution_count": 29,
   "id": "fce16c44",
   "metadata": {},
   "outputs": [
    {
     "data": {
      "text/plain": [
       "<AxesSubplot:>"
      ]
     },
     "execution_count": 29,
     "metadata": {},
     "output_type": "execute_result"
    },
    {
     "data": {
      "image/png": "[encoded data removed]",
      "text/plain": [
       "<Figure size 432x288 with 1 Axes>"
      ]
     },
     "metadata": {
      "needs_background": "light"
     },
     "output_type": "display_data"
    }
   ],
   "source": [
    "ground_water_df['NO3'].hist(bins = 100)"
   ]
  },
  {
   "cell_type": "code",
   "execution_count": 30,
   "id": "1490299e",
   "metadata": {},
   "outputs": [
    {
     "data": {
      "text/plain": [
       "<AxesSubplot:>"
      ]
     },
     "execution_count": 30,
     "metadata": {},
     "output_type": "execute_result"
    },
    {
     "data": {
      "image/png": "[encoded data removed]",
      "text/plain": [
       "<Figure size 432x288 with 1 Axes>"
      ]
     },
     "metadata": {
      "needs_background": "light"
     },
     "output_type": "display_data"
    }
   ],
   "source": [
    "ground_water_df.boxplot(column=['NO3'])"
   ]
  },
  {
   "cell_type": "markdown",
   "id": "021ac1e9",
   "metadata": {},
   "source": [
    "#### Sulphate Present (SO4)"
   ]
  },
  {
   "cell_type": "code",
   "execution_count": 31,
   "id": "dc6a9c8b",
   "metadata": {},
   "outputs": [
    {
     "data": {
      "text/plain": [
       "<AxesSubplot:>"
      ]
     },
     "execution_count": 31,
     "metadata": {},
     "output_type": "execute_result"
    },
    {
     "data": {
      "image/png": "[encoded data removed]",
      "text/plain": [
       "<Figure size 432x288 with 1 Axes>"
      ]
     },
     "metadata": {
      "needs_background": "light"
     },
     "output_type": "display_data"
    }
   ],
   "source": [
    "ground_water_df['SO4'].hist(bins = 100)"
   ]
  },
  {
   "cell_type": "code",
   "execution_count": 32,
   "id": "ebf2d998",
   "metadata": {},
   "outputs": [
    {
     "data": {
      "text/plain": [
       "<AxesSubplot:>"
      ]
     },
     "execution_count": 32,
     "metadata": {},
     "output_type": "execute_result"
    },
    {
     "data": {
      "image/png": "[encoded data removed]",
      "text/plain": [
       "<Figure size 432x288 with 1 Axes>"
      ]
     },
     "metadata": {
      "needs_background": "light"
     },
     "output_type": "display_data"
    }
   ],
   "source": [
    "ground_water_df.boxplot(column=['SO4'])"
   ]
  },
  {
   "cell_type": "markdown",
   "id": "8928fb6e",
   "metadata": {},
   "source": [
    "#### Sodium Present (Na)"
   ]
  },
  {
   "cell_type": "code",
   "execution_count": 33,
   "id": "be28e731",
   "metadata": {},
   "outputs": [
    {
     "data": {
      "text/plain": [
       "<AxesSubplot:>"
      ]
     },
     "execution_count": 33,
     "metadata": {},
     "output_type": "execute_result"
    },
    {
     "data": {
      "image/png": "[encoded data removed]",
      "text/plain": [
       "<Figure size 432x288 with 1 Axes>"
      ]
     },
     "metadata": {
      "needs_background": "light"
     },
     "output_type": "display_data"
    }
   ],
   "source": [
    "ground_water_df['Na'].hist(bins = 100)"
   ]
  },
  {
   "cell_type": "code",
   "execution_count": 34,
   "id": "8ed621d0",
   "metadata": {},
   "outputs": [
    {
     "data": {
      "text/plain": [
       "<AxesSubplot:>"
      ]
     },
     "execution_count": 34,
     "metadata": {},
     "output_type": "execute_result"
    },
    {
     "data": {
      "image/png": "[encoded data removed]",
      "text/plain": [
       "<Figure size 432x288 with 1 Axes>"
      ]
     },
     "metadata": {
      "needs_background": "light"
     },
     "output_type": "display_data"
    }
   ],
   "source": [
    "ground_water_df.boxplot(column=['Na'])"
   ]
  },
  {
   "cell_type": "markdown",
   "id": "f3987ecf",
   "metadata": {},
   "source": [
    "#### Potassium Present (K)"
   ]
  },
  {
   "cell_type": "code",
   "execution_count": 35,
   "id": "11f6ebb6",
   "metadata": {},
   "outputs": [
    {
     "data": {
      "text/plain": [
       "<AxesSubplot:>"
      ]
     },
     "execution_count": 35,
     "metadata": {},
     "output_type": "execute_result"
    },
    {
     "data": {
      "image/png": "[encoded data removed]",
      "text/plain": [
       "<Figure size 432x288 with 1 Axes>"
      ]
     },
     "metadata": {
      "needs_background": "light"
     },
     "output_type": "display_data"
    }
   ],
   "source": [
    "ground_water_df['K'].hist(bins = 100)"
   ]
  },
  {
   "cell_type": "code",
   "execution_count": 36,
   "id": "fc718a53",
   "metadata": {},
   "outputs": [
    {
     "data": {
      "text/plain": [
       "<AxesSubplot:>"
      ]
     },
     "execution_count": 36,
     "metadata": {},
     "output_type": "execute_result"
    },
    {
     "data": {
      "image/png": "[encoded data removed]",
      "text/plain": [
       "<Figure size 432x288 with 1 Axes>"
      ]
     },
     "metadata": {
      "needs_background": "light"
     },
     "output_type": "display_data"
    }
   ],
   "source": [
    "ground_water_df.boxplot(column=['K'])"
   ]
  },
  {
   "cell_type": "markdown",
   "id": "bc6a485e",
   "metadata": {},
   "source": [
    "#### Calcium Present (Ca)"
   ]
  },
  {
   "cell_type": "code",
   "execution_count": 37,
   "id": "76e91a6b",
   "metadata": {},
   "outputs": [
    {
     "data": {
      "text/plain": [
       "<AxesSubplot:>"
      ]
     },
     "execution_count": 37,
     "metadata": {},
     "output_type": "execute_result"
    },
    {
     "data": {
      "image/png": "[encoded data removed]",
      "text/plain": [
       "<Figure size 432x288 with 1 Axes>"
      ]
     },
     "metadata": {
      "needs_background": "light"
     },
     "output_type": "display_data"
    }
   ],
   "source": [
    "ground_water_df['Ca'].hist(bins = 100)"
   ]
  },
  {
   "cell_type": "code",
   "execution_count": 38,
   "id": "8cf040bc",
   "metadata": {},
   "outputs": [
    {
     "data": {
      "text/plain": [
       "<AxesSubplot:>"
      ]
     },
     "execution_count": 38,
     "metadata": {},
     "output_type": "execute_result"
    },
    {
     "data": {
      "image/png": "[encoded data removed]",
      "text/plain": [
       "<Figure size 432x288 with 1 Axes>"
      ]
     },
     "metadata": {
      "needs_background": "light"
     },
     "output_type": "display_data"
    }
   ],
   "source": [
    "ground_water_df.boxplot(column=['Ca'])"
   ]
  },
  {
   "cell_type": "markdown",
   "id": "38033651",
   "metadata": {},
   "source": [
    "#### Magnessium Present (Mg)"
   ]
  },
  {
   "cell_type": "code",
   "execution_count": 39,
   "id": "45533e95",
   "metadata": {},
   "outputs": [
    {
     "data": {
      "text/plain": [
       "<AxesSubplot:>"
      ]
     },
     "execution_count": 39,
     "metadata": {},
     "output_type": "execute_result"
    },
    {
     "data": {
      "image/png": "[encoded data removed]",
      "text/plain": [
       "<Figure size 432x288 with 1 Axes>"
      ]
     },
     "metadata": {
      "needs_background": "light"
     },
     "output_type": "display_data"
    }
   ],
   "source": [
    "ground_water_df['Mg'].hist(bins = 100)"
   ]
  },
  {
   "cell_type": "code",
   "execution_count": 40,
   "id": "11c4f237",
   "metadata": {},
   "outputs": [
    {
     "data": {
      "text/plain": [
       "<AxesSubplot:>"
      ]
     },
     "execution_count": 40,
     "metadata": {},
     "output_type": "execute_result"
    },
    {
     "data": {
      "image/png": "[encoded data removed]",
      "text/plain": [
       "<Figure size 432x288 with 1 Axes>"
      ]
     },
     "metadata": {
      "needs_background": "light"
     },
     "output_type": "display_data"
    }
   ],
   "source": [
    "ground_water_df.boxplot(column=['Mg'])"
   ]
  },
  {
   "cell_type": "markdown",
   "id": "26fa5062",
   "metadata": {},
   "source": [
    "#### Total Hardness (T.H)"
   ]
  },
  {
   "cell_type": "code",
   "execution_count": 41,
   "id": "723d2ce1",
   "metadata": {},
   "outputs": [
    {
     "data": {
      "text/plain": [
       "<AxesSubplot:>"
      ]
     },
     "execution_count": 41,
     "metadata": {},
     "output_type": "execute_result"
    },
    {
     "data": {
      "image/png": "[encoded data removed]",
      "text/plain": [
       "<Figure size 432x288 with 1 Axes>"
      ]
     },
     "metadata": {
      "needs_background": "light"
     },
     "output_type": "display_data"
    }
   ],
   "source": [
    "ground_water_df['T.H'].hist(bins = 100)"
   ]
  },
  {
   "cell_type": "code",
   "execution_count": 42,
   "id": "7d5a4f76",
   "metadata": {},
   "outputs": [
    {
     "data": {
      "text/plain": [
       "<AxesSubplot:>"
      ]
     },
     "execution_count": 42,
     "metadata": {},
     "output_type": "execute_result"
    },
    {
     "data": {
      "image/png": "[encoded data removed]",
      "text/plain": [
       "<Figure size 432x288 with 1 Axes>"
      ]
     },
     "metadata": {
      "needs_background": "light"
     },
     "output_type": "display_data"
    }
   ],
   "source": [
    "ground_water_df.boxplot(column=['T.H'])"
   ]
  },
  {
   "cell_type": "markdown",
   "id": "341a0cb7",
   "metadata": {},
   "source": [
    "#### Sodium Adsoption Ratio (SAR)"
   ]
  },
  {
   "cell_type": "code",
   "execution_count": 43,
   "id": "9e588aa4",
   "metadata": {},
   "outputs": [
    {
     "data": {
      "text/plain": [
       "<AxesSubplot:>"
      ]
     },
     "execution_count": 43,
     "metadata": {},
     "output_type": "execute_result"
    },
    {
     "data": {
      "image/png": "[encoded data removed]",
      "text/plain": [
       "<Figure size 432x288 with 1 Axes>"
      ]
     },
     "metadata": {
      "needs_background": "light"
     },
     "output_type": "display_data"
    }
   ],
   "source": [
    "ground_water_df['SAR'].hist(bins = 100)"
   ]
  },
  {
   "cell_type": "code",
   "execution_count": 44,
   "id": "607cc7a6",
   "metadata": {},
   "outputs": [
    {
     "data": {
      "text/plain": [
       "<AxesSubplot:>"
      ]
     },
     "execution_count": 44,
     "metadata": {},
     "output_type": "execute_result"
    },
    {
     "data": {
      "image/png": "[encoded data removed]",
      "text/plain": [
       "<Figure size 432x288 with 1 Axes>"
      ]
     },
     "metadata": {
      "needs_background": "light"
     },
     "output_type": "display_data"
    }
   ],
   "source": [
    "ground_water_df.boxplot(column=['SAR'])"
   ]
  },
  {
   "cell_type": "markdown",
   "id": "a3e34eb4",
   "metadata": {},
   "source": [
    "#### Residual Sodium Carbonate (RSC)"
   ]
  },
  {
   "cell_type": "code",
   "execution_count": 45,
   "id": "026a6b05",
   "metadata": {},
   "outputs": [
    {
     "data": {
      "text/plain": [
       "<AxesSubplot:>"
      ]
     },
     "execution_count": 45,
     "metadata": {},
     "output_type": "execute_result"
    },
    {
     "data": {
      "image/png": "[encoded data removed]",
      "text/plain": [
       "<Figure size 432x288 with 1 Axes>"
      ]
     },
     "metadata": {
      "needs_background": "light"
     },
     "output_type": "display_data"
    }
   ],
   "source": [
    "ground_water_df['RSC'].hist(bins = 100)"
   ]
  },
  {
   "cell_type": "code",
   "execution_count": 46,
   "id": "a8426b95",
   "metadata": {},
   "outputs": [
    {
     "data": {
      "text/plain": [
       "<AxesSubplot:>"
      ]
     },
     "execution_count": 46,
     "metadata": {},
     "output_type": "execute_result"
    },
    {
     "data": {
      "image/png": "[encoded data removed]",
      "text/plain": [
       "<Figure size 432x288 with 1 Axes>"
      ]
     },
     "metadata": {
      "needs_background": "light"
     },
     "output_type": "display_data"
    }
   ],
   "source": [
    "ground_water_df.boxplot(column=['RSC'])"
   ]
  },
  {
   "cell_type": "markdown",
   "id": "7e2940ab",
   "metadata": {},
   "source": [
    "## Outlier Treatment: Flooring (1st Percentile) and Capping (99th Percentile)"
   ]
  },
  {
   "cell_type": "code",
   "execution_count": 47,
   "id": "61d4810b",
   "metadata": {},
   "outputs": [],
   "source": [
    "for num in numeric:\n",
    "    Q1 = ground_water_df[num].quantile(0.25)\n",
    "    Q3 = ground_water_df[num].quantile(0.75)\n",
    "    IQR = Q3 - Q1\n",
    "    whisker_width = 1.5\n",
    "    lower_whisker = Q1 -(whisker_width*IQR)\n",
    "    upper_whisker = Q3 + (whisker_width*IQR)\n",
    "    ground_water_df[num]=np.where(ground_water_df[num]>upper_whisker,upper_whisker,np.where(ground_water_df[num]<lower_whisker,lower_whisker,ground_water_df[num]))"
   ]
  },
  {
   "cell_type": "code",
   "execution_count": 48,
   "id": "7d33b1ba",
   "metadata": {},
   "outputs": [
    {
     "data": {
      "text/plain": [
       "<AxesSubplot:>"
      ]
     },
     "execution_count": 48,
     "metadata": {},
     "output_type": "execute_result"
    },
    {
     "data": {
      "image/png": "[encoded data removed]",
      "text/plain": [
       "<Figure size 432x288 with 1 Axes>"
      ]
     },
     "metadata": {
      "needs_background": "light"
     },
     "output_type": "display_data"
    }
   ],
   "source": [
    "ground_water_df.boxplot(column=['K'])"
   ]
  },
  {
   "cell_type": "code",
   "execution_count": 49,
   "id": "095619ee",
   "metadata": {},
   "outputs": [
    {
     "data": {
      "text/plain": [
       "<AxesSubplot:>"
      ]
     },
     "execution_count": 49,
     "metadata": {},
     "output_type": "execute_result"
    },
    {
     "data": {
      "image/png": "[encoded data removed]",
      "text/plain": [
       "<Figure size 432x288 with 1 Axes>"
      ]
     },
     "metadata": {
      "needs_background": "light"
     },
     "output_type": "display_data"
    }
   ],
   "source": [
    "ground_water_df.boxplot(column=['RSC'])"
   ]
  },
  {
   "cell_type": "markdown",
   "id": "d1e705bf",
   "metadata": {},
   "source": [
    "## Unnecessary Data"
   ]
  },
  {
   "cell_type": "code",
   "execution_count": 50,
   "id": "3cdf645c",
   "metadata": {},
   "outputs": [
    {
     "name": "stdout",
     "output_type": "stream",
     "text": [
      "season: 100.00%\n",
      "Post-monsoon 2021    817\n",
      "Name: season, dtype: int64\n",
      "\n",
      "CO3: 100.00%\n",
      "0.0    817\n",
      "Name: CO3, dtype: int64\n",
      "\n"
     ]
    }
   ],
   "source": [
    "num_rows = len(ground_water_df)\n",
    "\n",
    "for col in ground_water_df.columns:\n",
    "    cnts = ground_water_df[col].value_counts(dropna=False)\n",
    "    top_pct = (cnts/num_rows).iloc[0]\n",
    "    \n",
    "    if top_pct > 0.999:\n",
    "        print('{0}: {1:.2f}%'.format(col, top_pct*100))\n",
    "        print(cnts)\n",
    "        print()\n",
    "\n",
    "#deleted the season column\n",
    "ground_water_df = ground_water_df.drop(columns=['season'])\n",
    "new_nonnumeric = ground_water_df.select_dtypes(exclude=['number']).columns\n",
    "\n",
    "# Removing CO3\n",
    "ground_water_df = ground_water_df.drop(columns=['CO3'])\n",
    "new_numeric = ground_water_df.select_dtypes(include=['number']).columns"
   ]
  },
  {
   "cell_type": "code",
   "execution_count": 51,
   "id": "205ef1bb",
   "metadata": {},
   "outputs": [
    {
     "name": "stdout",
     "output_type": "stream",
     "text": [
      "Index(['district', 'mandal', 'village', 'Classification', 'Classification.1'], dtype='object')\n"
     ]
    }
   ],
   "source": [
    "print(new_nonnumeric)"
   ]
  },
  {
   "cell_type": "code",
   "execution_count": 52,
   "id": "69e1cb0d",
   "metadata": {},
   "outputs": [
    {
     "data": {
      "text/html": [
       "<div>\n",
       "<style scoped>\n",
       "    .dataframe tbody tr th:only-of-type {\n",
       "        vertical-align: middle;\n",
       "    }\n",
       "\n",
       "    .dataframe tbody tr th {\n",
       "        vertical-align: top;\n",
       "    }\n",
       "\n",
       "    .dataframe thead th {\n",
       "        text-align: right;\n",
       "    }\n",
       "</style>\n",
       "<table border=\"1\" class=\"dataframe\">\n",
       "  <thead>\n",
       "    <tr style=\"text-align: right;\">\n",
       "      <th></th>\n",
       "      <th>sno</th>\n",
       "      <th>district</th>\n",
       "      <th>mandal</th>\n",
       "      <th>village</th>\n",
       "      <th>lat_gis</th>\n",
       "      <th>long_gis</th>\n",
       "      <th>RL_GIS</th>\n",
       "      <th>pH</th>\n",
       "      <th>E.C</th>\n",
       "      <th>TDS</th>\n",
       "      <th>...</th>\n",
       "      <th>SO4</th>\n",
       "      <th>Na</th>\n",
       "      <th>K</th>\n",
       "      <th>Ca</th>\n",
       "      <th>Mg</th>\n",
       "      <th>T.H</th>\n",
       "      <th>SAR</th>\n",
       "      <th>Classification</th>\n",
       "      <th>RSC</th>\n",
       "      <th>Classification.1</th>\n",
       "    </tr>\n",
       "  </thead>\n",
       "  <tbody>\n",
       "  </tbody>\n",
       "</table>\n",
       "<p>0 rows × 24 columns</p>\n",
       "</div>"
      ],
      "text/plain": [
       "Empty DataFrame\n",
       "Columns: [sno, district, mandal, village, lat_gis, long_gis, RL_GIS, pH, E.C, TDS, HCO3, Cl, F, NO3, SO4, Na, K, Ca, Mg, T.H, SAR, Classification, RSC, Classification.1]\n",
       "Index: []\n",
       "\n",
       "[0 rows x 24 columns]"
      ]
     },
     "execution_count": 52,
     "metadata": {},
     "output_type": "execute_result"
    }
   ],
   "source": [
    "ground_water_df[ground_water_df.duplicated()]"
   ]
  },
  {
   "cell_type": "markdown",
   "id": "753a4994",
   "metadata": {},
   "source": [
    "# Feature Selection\n",
    "***"
   ]
  },
  {
   "cell_type": "code",
   "execution_count": 53,
   "id": "684d159b",
   "metadata": {},
   "outputs": [
    {
     "name": "stdout",
     "output_type": "stream",
     "text": [
      "<class 'pandas.core.frame.DataFrame'>\n",
      "Int64Index: 817 entries, 0 to 1023\n",
      "Data columns (total 19 columns):\n",
      " #   Column    Non-Null Count  Dtype  \n",
      "---  ------    --------------  -----  \n",
      " 0   sno       817 non-null    float64\n",
      " 1   lat_gis   817 non-null    float64\n",
      " 2   long_gis  817 non-null    float64\n",
      " 3   RL_GIS    817 non-null    float64\n",
      " 4   pH        817 non-null    float64\n",
      " 5   E.C       817 non-null    float64\n",
      " 6   TDS       817 non-null    float64\n",
      " 7   HCO3      817 non-null    float64\n",
      " 8   Cl        817 non-null    float64\n",
      " 9   F         817 non-null    float64\n",
      " 10  NO3       817 non-null    float64\n",
      " 11  SO4       817 non-null    float64\n",
      " 12  Na        817 non-null    float64\n",
      " 13  K         817 non-null    float64\n",
      " 14  Ca        817 non-null    float64\n",
      " 15  Mg        817 non-null    float64\n",
      " 16  T.H       817 non-null    float64\n",
      " 17  SAR       817 non-null    float64\n",
      " 18  RSC       817 non-null    float64\n",
      "dtypes: float64(19)\n",
      "memory usage: 127.7 KB\n"
     ]
    }
   ],
   "source": [
    "# Normalizing Data\n",
    "scaled_df = normalize(ground_water_df[new_numeric])\n",
    "ground_water_df[new_numeric] = scaled_df\n",
    "\n",
    "ground_water_df[new_numeric].info()"
   ]
  },
  {
   "cell_type": "markdown",
   "id": "a90d10a1",
   "metadata": {},
   "source": [
    "## Numerical Input → Categorical Output\n",
    "#### ANOVA"
   ]
  },
  {
   "cell_type": "code",
   "execution_count": 54,
   "id": "5b4040a7",
   "metadata": {},
   "outputs": [],
   "source": [
    "# Numerical Inputs\n",
    "X = ground_water_df[new_numeric]\n",
    "# Categorical Output\n",
    "y = ground_water_df['Classification.1']"
   ]
  },
  {
   "cell_type": "code",
   "execution_count": 55,
   "id": "25d1ca4d",
   "metadata": {},
   "outputs": [
    {
     "name": "stdout",
     "output_type": "stream",
     "text": [
      "(571, 19) (571,)\n",
      "(246, 19) (246,)\n"
     ]
    }
   ],
   "source": [
    "# Splitting Data 60% Training 40% Testing\n",
    "X_train, X_test, y_train, y_test = train_test_split(X, y, test_size = 0.3, random_state=1)\n",
    "\n",
    "print(X_train.shape, y_train.shape)\n",
    "print(X_test.shape, y_test.shape)"
   ]
  },
  {
   "cell_type": "code",
   "execution_count": 56,
   "id": "8f552dae",
   "metadata": {},
   "outputs": [
    {
     "name": "stdout",
     "output_type": "stream",
     "text": [
      "Feature 0: 1.856230\n",
      "Feature 1: 7.768318\n",
      "Feature 2: 7.933554\n",
      "Feature 3: 7.325287\n",
      "Feature 4: 7.236906\n",
      "Feature 5: 6.979295\n",
      "Feature 6: 6.995516\n",
      "Feature 7: 21.291977\n",
      "Feature 8: 3.571358\n",
      "Feature 9: 3.842542\n",
      "Feature 10: 3.262075\n",
      "Feature 11: 0.970692\n",
      "Feature 12: 71.330751\n",
      "Feature 13: 2.062168\n",
      "Feature 14: 31.174045\n",
      "Feature 15: 17.134111\n",
      "Feature 16: 109.872189\n",
      "Feature 17: 58.852243\n",
      "Feature 18: 145.949820\n"
     ]
    },
    {
     "data": {
      "image/png": "[encoded data removed]",
      "text/plain": [
       "<Figure size 432x288 with 1 Axes>"
      ]
     },
     "metadata": {
      "needs_background": "light"
     },
     "output_type": "display_data"
    }
   ],
   "source": [
    "# ANOVA Feature Selection\n",
    "fs = SelectKBest(score_func = f_classif, k='all')\n",
    "fs.fit(X_train, y_train)\n",
    "X_train_fs = fs.transform(X_train)\n",
    "X_test_fs = fs.transform(X_test)\n",
    "\n",
    "# what are scores for the features\n",
    "for i in range(len(fs.scores_)):\n",
    "    print('Feature %d: %f' % (i, fs.scores_[i]))\n",
    "    \n",
    "idx = np.arange(len(new_numeric))\n",
    "labels = ground_water_df[new_numeric][:len(new_numeric)]\n",
    "\n",
    "plt.bar(idx, fs.scores_)\n",
    "plt.xticks(idx, labels, rotation=65)  # Rotate labels if needed\n",
    "plt.show()"
   ]
  },
  {
   "cell_type": "markdown",
   "id": "fdcecbb4",
   "metadata": {},
   "source": [
    "#### Mutual Information Feature Selection"
   ]
  },
  {
   "cell_type": "code",
   "execution_count": 57,
   "id": "ebe6eb80",
   "metadata": {},
   "outputs": [
    {
     "name": "stdout",
     "output_type": "stream",
     "text": [
      "Feature 0: 0.016274\n",
      "Feature 1: 0.019690\n",
      "Feature 2: 0.032732\n",
      "Feature 3: 0.002003\n",
      "Feature 4: 0.018749\n",
      "Feature 5: 0.022669\n",
      "Feature 6: 0.024781\n",
      "Feature 7: 0.040154\n",
      "Feature 8: 0.016828\n",
      "Feature 9: 0.029433\n",
      "Feature 10: 0.000000\n",
      "Feature 11: 0.024817\n",
      "Feature 12: 0.132624\n",
      "Feature 13: 0.011709\n",
      "Feature 14: 0.074612\n",
      "Feature 15: 0.039701\n",
      "Feature 16: 0.133404\n",
      "Feature 17: 0.091314\n",
      "Feature 18: 0.243656\n"
     ]
    },
    {
     "data": {
      "image/png": "[encoded data removed]",
      "text/plain": [
       "<Figure size 432x288 with 1 Axes>"
      ]
     },
     "metadata": {
      "needs_background": "light"
     },
     "output_type": "display_data"
    }
   ],
   "source": [
    "# Mutual Information Feature Selection\n",
    "fs = SelectKBest(score_func = mutual_info_classif, k='all')\n",
    "fs.fit(X_train, y_train)\n",
    "X_train_fs = fs.transform(X_train)\n",
    "X_test_fs = fs.transform(X_test)\n",
    "\n",
    "# what are scores for the features\n",
    "for i in range(len(fs.scores_)):\n",
    "    print('Feature %d: %f' % (i, fs.scores_[i]))\n",
    "    \n",
    "idx = np.arange(len(new_numeric))\n",
    "labels = ground_water_df[new_numeric][:len(new_numeric)]\n",
    "\n",
    "plt.bar(idx, fs.scores_)\n",
    "plt.xticks(idx, labels, rotation=65)  # Rotate labels if needed\n",
    "plt.show()"
   ]
  },
  {
   "cell_type": "markdown",
   "id": "3049809f",
   "metadata": {},
   "source": [
    "#### Recursive Feature Elimination (RFE) Method"
   ]
  },
  {
   "cell_type": "code",
   "execution_count": 58,
   "id": "dbc0ff8a",
   "metadata": {},
   "outputs": [
    {
     "name": "stdout",
     "output_type": "stream",
     "text": [
      "Feature: Cl Rank: 1\n",
      "Feature: HCO3 Rank: 1\n",
      "Feature: Na Rank: 1\n",
      "Feature: RL_GIS Rank: 1\n",
      "Feature: T.H Rank: 1\n",
      "Feature: Ca Rank: 2\n",
      "Feature: E.C Rank: 3\n",
      "Feature: lat_gis Rank: 4\n",
      "Feature: Mg Rank: 5\n",
      "Feature: TDS Rank: 6\n",
      "Feature: NO3 Rank: 7\n",
      "Feature: SO4 Rank: 8\n",
      "Feature: long_gis Rank: 9\n",
      "Feature: RSC Rank: 10\n",
      "Feature: sno Rank: 11\n",
      "Feature: pH Rank: 12\n",
      "Feature: SAR Rank: 13\n",
      "Feature: K Rank: 14\n",
      "Feature: F Rank: 15\n"
     ]
    }
   ],
   "source": [
    "# Create a dataset with features (X) and target variable (y)\n",
    "X = ground_water_df[new_numeric]\n",
    "y = ground_water_df['Classification.1']\n",
    "\n",
    "# Create a base model for feature elimination\n",
    "model = LogisticRegression()\n",
    "\n",
    "# Create the RFE object with the base model\n",
    "rfe = RFE(estimator=model, n_features_to_select=5)  # specify the number of features to select\n",
    "\n",
    "# Fit RFE to the data\n",
    "rfe.fit(X, y)\n",
    "\n",
    "# Get the rankings of features\n",
    "ranked_features = rfe.ranking_\n",
    "\n",
    "# Print the ranked features\n",
    "for feature_rank, feature_name in sorted(zip(ranked_features, X.columns)):\n",
    "    print(\"Feature:\", feature_name, \"Rank:\", feature_rank)"
   ]
  },
  {
   "cell_type": "markdown",
   "id": "9aa34e32",
   "metadata": {},
   "source": [
    "#### Chi Square"
   ]
  },
  {
   "cell_type": "code",
   "execution_count": 59,
   "id": "404ea376",
   "metadata": {},
   "outputs": [
    {
     "name": "stdout",
     "output_type": "stream",
     "text": [
      "Feature 0: 438.356298\n",
      "Feature 1: 2063.205298\n",
      "Feature 2: 2127.914793\n",
      "Feature 3: 1394.992108\n",
      "Feature 4: 1778.844087\n",
      "Feature 5: 2143.652948\n",
      "Feature 6: 2158.706013\n",
      "Feature 7: 3441.183769\n",
      "Feature 8: 814.782487\n",
      "Feature 9: 833.686438\n",
      "Feature 10: 586.902643\n",
      "Feature 11: 201.568661\n",
      "Feature 12: 7983.995174\n",
      "Feature 13: 256.114510\n",
      "Feature 14: 5721.772378\n",
      "Feature 15: 2972.923561\n",
      "Feature 16: 8762.269818\n",
      "Feature 17: 7139.196767\n",
      "Feature 18: 9514.218516\n"
     ]
    },
    {
     "data": {
      "image/png": "[encoded data removed]",
      "text/plain": [
       "<Figure size 432x288 with 1 Axes>"
      ]
     },
     "metadata": {
      "needs_background": "light"
     },
     "output_type": "display_data"
    }
   ],
   "source": [
    "# prepare input data\n",
    "def prepare_inputs(X_train, X_test):\n",
    "    oe = OrdinalEncoder(handle_unknown='use_encoded_value', unknown_value=-1)\n",
    "    oe.fit(X_train)\n",
    "    X_train_enc = oe.transform(X_train)\n",
    "    X_test_enc = oe.transform(X_test)\n",
    "    return X_train_enc, X_test_enc\n",
    " \n",
    "# prepare target\n",
    "def prepare_targets(y_train, y_test):\n",
    "    le = LabelEncoder()\n",
    "    le.fit(y_train)\n",
    "    y_train_enc = le.transform(y_train)\n",
    "    y_test_enc = le.transform(y_test)\n",
    "    return y_train_enc, y_test_enc\n",
    " \n",
    "# feature selection\n",
    "def select_features(X_train, y_train, X_test):\n",
    "    fs = SelectKBest(score_func=chi2, k='all')\n",
    "    fs.fit(X_train, y_train)\n",
    "    X_train_fs = fs.transform(X_train)\n",
    "    X_test_fs = fs.transform(X_test)\n",
    "    return X_train_fs, X_test_fs, fs\n",
    "\n",
    "#chi squared with numeric features\n",
    "X = ground_water_df[new_numeric]\n",
    "y = ground_water_df['Classification.1']\n",
    "\n",
    "X = X.astype(str)\n",
    " \n",
    "# split into train and test sets\n",
    "X_train, X_test, y_train, y_test = train_test_split(X, y, test_size=0.33, random_state=1)\n",
    "# prepare input data\n",
    "X_train_enc, X_test_enc = prepare_inputs(X_train, X_test)\n",
    "# prepare output data\n",
    "y_train_enc, y_test_enc = prepare_targets(y_train, y_test)\n",
    "\n",
    "# feature selection\n",
    "X_train_fs, X_test_fs, fs = select_features(X_train_enc, y_train_enc, X_test_enc)\n",
    "# what are scores for the features\n",
    "for i in range(len(fs.scores_)):\n",
    "    print('Feature %d: %f' % (i, fs.scores_[i]))\n",
    "# plot the scores\n",
    "idx = np.arange(len(new_numeric))\n",
    "labels = ground_water_df[new_numeric][:len(new_numeric)]\n",
    "\n",
    "plt.bar(idx, fs.scores_)\n",
    "plt.xticks(idx, labels, rotation=65)  # Rotate labels if needed\n",
    "plt.show()"
   ]
  },
  {
   "cell_type": "markdown",
   "id": "434c02f5",
   "metadata": {},
   "source": [
    "## Categorical Input → Categorical Output\n",
    "\n",
    "#### Chi Square"
   ]
  },
  {
   "cell_type": "code",
   "execution_count": 60,
   "id": "fc44b0ba",
   "metadata": {},
   "outputs": [
    {
     "name": "stdout",
     "output_type": "stream",
     "text": [
      "Feature 0: 4.111736\n",
      "Feature 1: 401.197109\n",
      "Feature 2: 454.765318\n",
      "Feature 3: 29.721566\n"
     ]
    },
    {
     "data": {
      "image/png": "[encoded data removed]",
      "text/plain": [
       "<Figure size 432x288 with 1 Axes>"
      ]
     },
     "metadata": {
      "needs_background": "light"
     },
     "output_type": "display_data"
    }
   ],
   "source": [
    "#chi squared with non-numeric features\n",
    "features = ['district', 'mandal','village', 'Classification']\n",
    "X = ground_water_df[features]\n",
    "y = ground_water_df['Classification.1']\n",
    "\n",
    "X = X.astype(str)\n",
    " \n",
    "# split into train and test sets\n",
    "X_train, X_test, y_train, y_test = train_test_split(X, y, test_size=0.33, random_state=1)\n",
    "# prepare input data\n",
    "X_train_enc, X_test_enc = prepare_inputs(X_train, X_test)\n",
    "# prepare output data\n",
    "y_train_enc, y_test_enc = prepare_targets(y_train, y_test)\n",
    "\n",
    "# feature selection\n",
    "X_train_fs, X_test_fs, fs = select_features(X_train_enc, y_train_enc, X_test_enc)\n",
    "# what are scores for the features\n",
    "for i in range(len(fs.scores_)):\n",
    "    print('Feature %d: %f' % (i, fs.scores_[i]))\n",
    "# plot the scores\n",
    "idx = np.arange(len(features))\n",
    "labels = ground_water_df[new_numeric][:4]\n",
    "\n",
    "plt.bar(idx, fs.scores_)\n",
    "plt.xticks(idx, features, rotation=65)\n",
    "plt.show()"
   ]
  },
  {
   "cell_type": "markdown",
   "id": "f576ebc9",
   "metadata": {},
   "source": [
    "# Principal Component Analysis\n",
    "***"
   ]
  },
  {
   "cell_type": "code",
   "execution_count": 61,
   "id": "8bb71d5e",
   "metadata": {},
   "outputs": [
    {
     "data": {
      "text/html": [
       "<div>\n",
       "<style scoped>\n",
       "    .dataframe tbody tr th:only-of-type {\n",
       "        vertical-align: middle;\n",
       "    }\n",
       "\n",
       "    .dataframe tbody tr th {\n",
       "        vertical-align: top;\n",
       "    }\n",
       "\n",
       "    .dataframe thead th {\n",
       "        text-align: right;\n",
       "    }\n",
       "</style>\n",
       "<table border=\"1\" class=\"dataframe\">\n",
       "  <thead>\n",
       "    <tr style=\"text-align: right;\">\n",
       "      <th></th>\n",
       "      <th>RSC</th>\n",
       "      <th>SAR</th>\n",
       "      <th>T.H</th>\n",
       "      <th>Mg</th>\n",
       "      <th>Ca</th>\n",
       "      <th>Na</th>\n",
       "      <th>HCO3</th>\n",
       "      <th>E.C</th>\n",
       "      <th>TDS</th>\n",
       "    </tr>\n",
       "  </thead>\n",
       "  <tbody>\n",
       "    <tr>\n",
       "      <th>0</th>\n",
       "      <td>-0.002170</td>\n",
       "      <td>0.001374</td>\n",
       "      <td>0.274824</td>\n",
       "      <td>0.038331</td>\n",
       "      <td>0.046286</td>\n",
       "      <td>0.061474</td>\n",
       "      <td>0.166341</td>\n",
       "      <td>0.770230</td>\n",
       "      <td>0.493236</td>\n",
       "    </tr>\n",
       "    <tr>\n",
       "      <th>1</th>\n",
       "      <td>-0.000846</td>\n",
       "      <td>0.001672</td>\n",
       "      <td>0.126964</td>\n",
       "      <td>0.021161</td>\n",
       "      <td>0.016929</td>\n",
       "      <td>0.029625</td>\n",
       "      <td>0.084643</td>\n",
       "      <td>0.258160</td>\n",
       "      <td>0.165053</td>\n",
       "    </tr>\n",
       "    <tr>\n",
       "      <th>2</th>\n",
       "      <td>0.001619</td>\n",
       "      <td>0.002679</td>\n",
       "      <td>0.194265</td>\n",
       "      <td>0.027521</td>\n",
       "      <td>0.032377</td>\n",
       "      <td>0.095513</td>\n",
       "      <td>0.275208</td>\n",
       "      <td>0.764917</td>\n",
       "      <td>0.489709</td>\n",
       "    </tr>\n",
       "    <tr>\n",
       "      <th>3</th>\n",
       "      <td>-0.000151</td>\n",
       "      <td>0.001970</td>\n",
       "      <td>0.226471</td>\n",
       "      <td>0.036990</td>\n",
       "      <td>0.030196</td>\n",
       "      <td>0.078510</td>\n",
       "      <td>0.218922</td>\n",
       "      <td>0.776041</td>\n",
       "      <td>0.496726</td>\n",
       "    </tr>\n",
       "    <tr>\n",
       "      <th>4</th>\n",
       "      <td>-0.001111</td>\n",
       "      <td>0.001299</td>\n",
       "      <td>0.263879</td>\n",
       "      <td>0.034027</td>\n",
       "      <td>0.049998</td>\n",
       "      <td>0.058331</td>\n",
       "      <td>0.208326</td>\n",
       "      <td>0.770806</td>\n",
       "      <td>0.493038</td>\n",
       "    </tr>\n",
       "    <tr>\n",
       "      <th>...</th>\n",
       "      <td>...</td>\n",
       "      <td>...</td>\n",
       "      <td>...</td>\n",
       "      <td>...</td>\n",
       "      <td>...</td>\n",
       "      <td>...</td>\n",
       "      <td>...</td>\n",
       "      <td>...</td>\n",
       "      <td>...</td>\n",
       "    </tr>\n",
       "    <tr>\n",
       "      <th>1019</th>\n",
       "      <td>0.000120</td>\n",
       "      <td>0.002295</td>\n",
       "      <td>0.204266</td>\n",
       "      <td>0.011415</td>\n",
       "      <td>0.062481</td>\n",
       "      <td>0.097327</td>\n",
       "      <td>0.210274</td>\n",
       "      <td>0.773208</td>\n",
       "      <td>0.495045</td>\n",
       "    </tr>\n",
       "    <tr>\n",
       "      <th>1020</th>\n",
       "      <td>-0.002312</td>\n",
       "      <td>0.001264</td>\n",
       "      <td>0.248597</td>\n",
       "      <td>0.020026</td>\n",
       "      <td>0.052482</td>\n",
       "      <td>0.079068</td>\n",
       "      <td>0.131204</td>\n",
       "      <td>0.788606</td>\n",
       "      <td>0.504791</td>\n",
       "    </tr>\n",
       "    <tr>\n",
       "      <th>1021</th>\n",
       "      <td>-0.002226</td>\n",
       "      <td>0.001429</td>\n",
       "      <td>0.239321</td>\n",
       "      <td>0.020941</td>\n",
       "      <td>0.050523</td>\n",
       "      <td>0.086089</td>\n",
       "      <td>0.086421</td>\n",
       "      <td>0.796739</td>\n",
       "      <td>0.509886</td>\n",
       "    </tr>\n",
       "    <tr>\n",
       "      <th>1022</th>\n",
       "      <td>0.000485</td>\n",
       "      <td>0.001491</td>\n",
       "      <td>0.266597</td>\n",
       "      <td>0.018177</td>\n",
       "      <td>0.077555</td>\n",
       "      <td>0.050896</td>\n",
       "      <td>0.290833</td>\n",
       "      <td>0.618019</td>\n",
       "      <td>0.395048</td>\n",
       "    </tr>\n",
       "    <tr>\n",
       "      <th>1023</th>\n",
       "      <td>-0.000606</td>\n",
       "      <td>0.000717</td>\n",
       "      <td>0.363390</td>\n",
       "      <td>0.010094</td>\n",
       "      <td>0.129205</td>\n",
       "      <td>0.031292</td>\n",
       "      <td>0.333107</td>\n",
       "      <td>0.657130</td>\n",
       "      <td>0.420926</td>\n",
       "    </tr>\n",
       "  </tbody>\n",
       "</table>\n",
       "<p>817 rows × 9 columns</p>\n",
       "</div>"
      ],
      "text/plain": [
       "           RSC       SAR       T.H        Mg        Ca        Na      HCO3  \\\n",
       "0    -0.002170  0.001374  0.274824  0.038331  0.046286  0.061474  0.166341   \n",
       "1    -0.000846  0.001672  0.126964  0.021161  0.016929  0.029625  0.084643   \n",
       "2     0.001619  0.002679  0.194265  0.027521  0.032377  0.095513  0.275208   \n",
       "3    -0.000151  0.001970  0.226471  0.036990  0.030196  0.078510  0.218922   \n",
       "4    -0.001111  0.001299  0.263879  0.034027  0.049998  0.058331  0.208326   \n",
       "...        ...       ...       ...       ...       ...       ...       ...   \n",
       "1019  0.000120  0.002295  0.204266  0.011415  0.062481  0.097327  0.210274   \n",
       "1020 -0.002312  0.001264  0.248597  0.020026  0.052482  0.079068  0.131204   \n",
       "1021 -0.002226  0.001429  0.239321  0.020941  0.050523  0.086089  0.086421   \n",
       "1022  0.000485  0.001491  0.266597  0.018177  0.077555  0.050896  0.290833   \n",
       "1023 -0.000606  0.000717  0.363390  0.010094  0.129205  0.031292  0.333107   \n",
       "\n",
       "           E.C       TDS  \n",
       "0     0.770230  0.493236  \n",
       "1     0.258160  0.165053  \n",
       "2     0.764917  0.489709  \n",
       "3     0.776041  0.496726  \n",
       "4     0.770806  0.493038  \n",
       "...        ...       ...  \n",
       "1019  0.773208  0.495045  \n",
       "1020  0.788606  0.504791  \n",
       "1021  0.796739  0.509886  \n",
       "1022  0.618019  0.395048  \n",
       "1023  0.657130  0.420926  \n",
       "\n",
       "[817 rows x 9 columns]"
      ]
     },
     "execution_count": 61,
     "metadata": {},
     "output_type": "execute_result"
    }
   ],
   "source": [
    "chosen_features = ['RSC', 'SAR', 'T.H', 'Mg', 'Ca', 'Na', 'HCO3', 'E.C', 'TDS', 'mandal', 'village', 'Classification.1']\n",
    "\n",
    "working_gw_df = ground_water_df[chosen_features]\n",
    "working_gw_df.head()\n",
    "\n",
    "working_numeric = working_gw_df.select_dtypes(include=['number']).columns\n",
    "working_nonnumeric = working_gw_df.select_dtypes(exclude=['number']).columns\n",
    "\n",
    "working_gw_df[working_numeric]"
   ]
  },
  {
   "cell_type": "code",
   "execution_count": 62,
   "id": "2fe7a87f",
   "metadata": {},
   "outputs": [],
   "source": [
    "pca = PCA(n_components=2)\n",
    "\n",
    "principalComponents = pca.fit_transform(working_gw_df[working_numeric])\n",
    "\n",
    "principalDf = pd.DataFrame(data=principalComponents, columns=['principal component 1', 'principal component 2'])"
   ]
  },
  {
   "cell_type": "code",
   "execution_count": 63,
   "id": "eebb8762",
   "metadata": {},
   "outputs": [
    {
     "name": "stdout",
     "output_type": "stream",
     "text": [
      "      principal component 1  principal component 2 Classification.1\n",
      "0                 -0.035005              -0.022649             P.S.\n",
      "1                  0.467570               0.347021             P.S.\n",
      "2                 -0.027613              -0.053718               MR\n",
      "3                 -0.043519              -0.035534             P.S.\n",
      "4                 -0.025916              -0.048813             P.S.\n",
      "...                     ...                    ...              ...\n",
      "1019                    NaN                    NaN             P.S.\n",
      "1020                    NaN                    NaN             P.S.\n",
      "1021                    NaN                    NaN             P.S.\n",
      "1022                    NaN                    NaN             P.S.\n",
      "1023                    NaN                    NaN             P.S.\n",
      "\n",
      "[999 rows x 3 columns]\n"
     ]
    }
   ],
   "source": [
    "finalDf = pd.concat([principalDf, working_gw_df[['Classification.1']]], axis = 1)\n",
    "print(finalDf)"
   ]
  },
  {
   "cell_type": "code",
   "execution_count": 64,
   "id": "b408deb0",
   "metadata": {},
   "outputs": [
    {
     "name": "stdout",
     "output_type": "stream",
     "text": [
      "P.S.\n",
      "P.S.\n",
      "KeyError: 'P.S.'\n",
      "MR\n",
      "KeyError: 'MR'\n",
      "U.S.\n",
      "KeyError: 'U.S.'\n"
     ]
    },
    {
     "data": {
      "image/png": "[encoded data removed]",
      "text/plain": [
       "<Figure size 576x576 with 1 Axes>"
      ]
     },
     "metadata": {
      "needs_background": "light"
     },
     "output_type": "display_data"
    }
   ],
   "source": [
    "fig = plt.figure(figsize=(8, 8))\n",
    "ax = fig.add_subplot(1, 1, 1)\n",
    "ax.set_xlabel('Principal Component 1', fontsize=15)\n",
    "ax.set_ylabel('Principal Component 2', fontsize=15)\n",
    "ax.set_title('2 component PCA', fontsize=20)\n",
    "\n",
    "targets = []\n",
    "\n",
    "for i in working_gw_df['Classification.1']:\n",
    "    if i not in targets:\n",
    "        targets.append(i)\n",
    "\n",
    "print(targets[0])\n",
    "\n",
    "colors = ['r', 'g', 'b']\n",
    "\n",
    "for target, color in zip(targets, colors):\n",
    "    print(target)\n",
    "    try:\n",
    "        indicesToKeep = finalDf[target] == target  # Assuming target is the column name\n",
    "        ax.scatter(finalDf.loc[indicesToKeep, 'principal component 1'],\n",
    "                   finalDf.loc[indicesToKeep, 'principal component 2'],\n",
    "                   c=color,\n",
    "                   s=50)\n",
    "    except KeyError as e:\n",
    "        print(f\"KeyError: {e}\")\n",
    "        continue  # Skip this target if it doesn't exist in finalDf\n",
    "\n",
    "ax.legend(targets)\n",
    "ax.grid()\n",
    "plt.show()"
   ]
  },
  {
   "cell_type": "code",
   "execution_count": 65,
   "id": "0585a2c6",
   "metadata": {},
   "outputs": [
    {
     "data": {
      "image/png": "[encoded data removed]",
      "text/plain": [
       "<Figure size 576x576 with 1 Axes>"
      ]
     },
     "metadata": {
      "needs_background": "light"
     },
     "output_type": "display_data"
    }
   ],
   "source": [
    "principalComponents = pca.fit_transform(working_gw_df[working_numeric])\n",
    "\n",
    "principalDf = pd.DataFrame(data=principalComponents, columns=['principal component 1', 'principal component 2'])\n",
    "\n",
    "finalDf = pd.concat([principalDf, working_gw_df[['Classification.1']]], axis=1)\n",
    "\n",
    "fig = plt.figure(figsize=(8, 8))\n",
    "ax = fig.add_subplot(1, 1, 1)\n",
    "ax.set_xlabel('Principal Component 1', fontsize=15)\n",
    "ax.set_ylabel('Principal Component 2', fontsize=15)\n",
    "ax.set_title('2 component PCA', fontsize=20)\n",
    "\n",
    "targets = finalDf['Classification.1'].unique()\n",
    "\n",
    "colors = ['r', 'g', 'b']\n",
    "\n",
    "for target, color in zip(targets, colors):\n",
    "    indicesToKeep = finalDf['Classification.1'] == target\n",
    "    ax.scatter(finalDf.loc[indicesToKeep, 'principal component 1'],\n",
    "               finalDf.loc[indicesToKeep, 'principal component 2'],\n",
    "               c=color,\n",
    "               s=50,\n",
    "               label=target)\n",
    "\n",
    "ax.legend()\n",
    "ax.grid()\n",
    "plt.show()"
   ]
  }
 ],
 "metadata": {
  "kernelspec": {
   "display_name": "Python 3 (ipykernel)",
   "language": "python",
   "name": "python3"
  },
  "language_info": {
   "codemirror_mode": {
    "name": "ipython",
    "version": 3
   },
   "file_extension": ".py",
   "mimetype": "text/x-python",
   "name": "python",
   "nbconvert_exporter": "python",
   "pygments_lexer": "ipython3",
   "version": "3.9.7"
  }
 },
 "nbformat": 4,
 "nbformat_minor": 5
}
