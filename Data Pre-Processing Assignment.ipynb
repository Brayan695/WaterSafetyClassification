{
 "cells": [
  {
   "cell_type": "markdown",
   "id": "278f4967",
   "metadata": {},
   "source": [
    "# Data Pre-Processing Assignment\n",
    "\n",
    "### Brayan Gutierrez, Katie, Jericka"
   ]
  },
  {
   "cell_type": "code",
   "execution_count": 2,
   "id": "c3d2e0c1",
   "metadata": {},
   "outputs": [],
   "source": [
    "import pandas as pd\n",
    "import numpy as np\n",
    "import matplotlib as plt"
   ]
  },
  {
   "cell_type": "markdown",
   "id": "cd7240ec",
   "metadata": {},
   "source": [
    "## Reading Data"
   ]
  },
  {
   "cell_type": "code",
   "execution_count": 3,
   "id": "e54a2637",
   "metadata": {},
   "outputs": [
    {
     "name": "stdout",
     "output_type": "stream",
     "text": [
      "     sno  district        mandal       village    lat_gis   long_gis   gwl  \\\n",
      "0      1  ADILABAD      Adilabad      Adilabad  19.668300  78.524700  7.10   \n",
      "1      2  ADILABAD   Bazarhatnur   Bazarhatnur  19.458888  78.350833  3.35   \n",
      "2      3  ADILABAD   Gudihatnoor   Gudihatnoor  19.525555  78.512222  5.05   \n",
      "3      4  ADILABAD       Jainath       Jainath  19.730555  78.640000  2.10   \n",
      "4      5  ADILABAD       Narnoor       Narnoor  19.495665  78.852654  1.38   \n",
      "..   ...       ...           ...           ...        ...        ...   ...   \n",
      "363  375   YADADRI  S.Narayanpur  S.Narayanpur  17.144719  78.860010  9.90   \n",
      "364  376   YADADRI   Thurkapally    Gandamalla  17.733101  78.853831  5.74   \n",
      "365  377   YADADRI     Valigonda    T. somaram  17.399953  78.952290  1.72   \n",
      "366  378   YADADRI     Valigonda   Vemulakonda  17.347782  79.143433  1.65   \n",
      "367  379   YADADRI       Y.Gutta    Mallapuram  17.633555  78.911638  4.92   \n",
      "\n",
      "                season    pH   E.C  ...     SO4      Na      K     Ca  \\\n",
      "0    Post-monsoon 2020  8.01  1477  ...   33.00  171.00   9.00   24.0   \n",
      "1    Post-monsoon 2020  7.77   823  ...   13.50   70.00   3.00   16.0   \n",
      "2    Post-monsoon 2020  8.21   745  ...   10.50   65.00   3.00   16.0   \n",
      "3    Post-monsoon 2020   8.3   433  ...    7.25   31.00   1.00   16.0   \n",
      "4    Post-monsoon 2020  7.67   710  ...   14.50  129.00   2.00   32.0   \n",
      "..                 ...   ...   ...  ...     ...     ...    ...    ...   \n",
      "363  Post-monsoon 2020   7.8  2324  ...   33.00  169.30   2.60  160.0   \n",
      "364  Post-monsoon 2020  8.26  2109  ...   33.00  211.30  43.30   48.0   \n",
      "365  Post-monsoon 2020  8.77  1115  ...   15.00   60.44   3.04   80.0   \n",
      "366  Post-monsoon 2020  7.76  5053  ...  109.00  465.20   3.30  400.0   \n",
      "367  Post-monsoon 2020  8.13  2280  ...   34.00  170.70   5.60  152.0   \n",
      "\n",
      "          Mg          T.H       SAR  Classification  RSC  meq  / L  \\\n",
      "0     72.930   359.876645  3.919146            C3S1       0.602467   \n",
      "1     53.482   259.909539  1.887814            C3S1      -0.198191   \n",
      "2     48.620   239.917763  1.824544            C2S1       0.001645   \n",
      "3     29.172   159.950658  1.065714            C2S1      -0.199013   \n",
      "4      5.000    82.878289  6.160862            C2S1       3.742434   \n",
      "..       ...          ...       ...             ...            ...   \n",
      "363   97.240   799.835526  2.602728            C4S1      -8.596711   \n",
      "364  116.688   599.802632  3.751176            C3S1      -3.396053   \n",
      "365   53.482   419.909539  1.282386            C3S1      -4.398191   \n",
      "366   92.378  1379.843750  5.444988            C4S1     -21.996875   \n",
      "367   97.240   779.835526  2.657689            C4S1     -11.596711   \n",
      "\n",
      "     Classification.1  \n",
      "0                P.S.  \n",
      "1                P.S.  \n",
      "2                P.S.  \n",
      "3                P.S.  \n",
      "4                U.S.  \n",
      "..                ...  \n",
      "363              P.S.  \n",
      "364              P.S.  \n",
      "365              P.S.  \n",
      "366              P.S.  \n",
      "367              P.S.  \n",
      "\n",
      "[368 rows x 26 columns]\n"
     ]
    }
   ],
   "source": [
    "ground_water = pd.read_csv(\"ground_water_quality_2020_post.csv\")\n",
    "ground_water_df = pd.DataFrame(ground_water)\n",
    "ground_water_df = ground_water_df.loc[:, ~ground_water_df.columns.str.contains('^Unnamed')]\n",
    "print(ground_water_df)"
   ]
  },
  {
   "cell_type": "markdown",
   "id": "03f22d4f",
   "metadata": {},
   "source": [
    "## Data Cleaning"
   ]
  },
  {
   "cell_type": "code",
   "execution_count": 9,
   "id": "99dcc4db",
   "metadata": {},
   "outputs": [
    {
     "name": "stdout",
     "output_type": "stream",
     "text": [
      "<class 'pandas.core.frame.DataFrame'>\n",
      "RangeIndex: 368 entries, 0 to 367\n",
      "Data columns (total 26 columns):\n",
      " #   Column            Non-Null Count  Dtype  \n",
      "---  ------            --------------  -----  \n",
      " 0   sno               368 non-null    int64  \n",
      " 1   district          368 non-null    object \n",
      " 2   mandal            368 non-null    object \n",
      " 3   village           368 non-null    object \n",
      " 4   lat_gis           368 non-null    float64\n",
      " 5   long_gis          368 non-null    float64\n",
      " 6   gwl               365 non-null    float64\n",
      " 7   season            368 non-null    object \n",
      " 8   pH                367 non-null    float64\n",
      " 9   E.C               368 non-null    int64  \n",
      " 10  TDS               368 non-null    float64\n",
      " 11  CO3               368 non-null    float64\n",
      " 12  HCO3              368 non-null    int64  \n",
      " 13  Cl                368 non-null    int64  \n",
      " 14  F                 368 non-null    float64\n",
      " 15  NO3               368 non-null    float64\n",
      " 16  SO4               368 non-null    float64\n",
      " 17  Na                368 non-null    float64\n",
      " 18  K                 368 non-null    float64\n",
      " 19  Ca                368 non-null    float64\n",
      " 20  Mg                368 non-null    float64\n",
      " 21  T.H               368 non-null    float64\n",
      " 22  SAR               368 non-null    float64\n",
      " 23  Classification    368 non-null    object \n",
      " 24  RSC  meq  / L     368 non-null    float64\n",
      " 25  Classification.1  368 non-null    object \n",
      "dtypes: float64(16), int64(4), object(6)\n",
      "memory usage: 74.9+ KB\n"
     ]
    }
   ],
   "source": [
    "ground_water_df['pH'] = pd.to_numeric(ground_water_df['pH'], errors='coerce')\n",
    "ground_water_df.info(verbose=True)"
   ]
  },
  {
   "cell_type": "markdown",
   "id": "38d658db",
   "metadata": {},
   "source": [
    "### Separating Numeric and Non-numeric Columns"
   ]
  },
  {
   "cell_type": "code",
   "execution_count": 10,
   "id": "a1b19d2c",
   "metadata": {},
   "outputs": [
    {
     "name": "stdout",
     "output_type": "stream",
     "text": [
      "Index(['sno', 'lat_gis', 'long_gis', 'gwl', 'pH', 'E.C', 'TDS', 'CO3', 'HCO3',\n",
      "       'Cl', 'F', 'NO3 ', 'SO4', 'Na', 'K', 'Ca', 'Mg', 'T.H', 'SAR',\n",
      "       'RSC  meq  / L'],\n",
      "      dtype='object')\n",
      "Index(['district', 'mandal', 'village', 'season', 'Classification',\n",
      "       'Classification.1'],\n",
      "      dtype='object')\n"
     ]
    }
   ],
   "source": [
    "numeric = ground_water_df.select_dtypes(include=['number']).columns\n",
    "nonnumeric = ground_water_df.select_dtypes(exclude=['number']).columns\n",
    "\n",
    "print(numeric)\n",
    "print(nonnumeric)"
   ]
  },
  {
   "cell_type": "markdown",
   "id": "8753e026",
   "metadata": {},
   "source": [
    "### Finding Missing Data"
   ]
  },
  {
   "cell_type": "code",
   "execution_count": 11,
   "id": "ec866309",
   "metadata": {},
   "outputs": [
    {
     "name": "stdout",
     "output_type": "stream",
     "text": [
      "<class 'pandas.core.frame.DataFrame'>\n",
      "RangeIndex: 368 entries, 0 to 367\n",
      "Data columns (total 6 columns):\n",
      " #   Column            Non-Null Count  Dtype \n",
      "---  ------            --------------  ----- \n",
      " 0   district          368 non-null    object\n",
      " 1   mandal            368 non-null    object\n",
      " 2   village           368 non-null    object\n",
      " 3   season            368 non-null    object\n",
      " 4   Classification    368 non-null    object\n",
      " 5   Classification.1  368 non-null    object\n",
      "dtypes: object(6)\n",
      "memory usage: 17.4+ KB\n"
     ]
    }
   ],
   "source": [
    "ground_water_df[nonnumeric].info()"
   ]
  },
  {
   "cell_type": "code",
   "execution_count": 12,
   "id": "91288fea",
   "metadata": {},
   "outputs": [
    {
     "name": "stdout",
     "output_type": "stream",
     "text": [
      "<class 'pandas.core.frame.DataFrame'>\n",
      "RangeIndex: 368 entries, 0 to 367\n",
      "Data columns (total 20 columns):\n",
      " #   Column         Non-Null Count  Dtype  \n",
      "---  ------         --------------  -----  \n",
      " 0   sno            368 non-null    int64  \n",
      " 1   lat_gis        368 non-null    float64\n",
      " 2   long_gis       368 non-null    float64\n",
      " 3   gwl            365 non-null    float64\n",
      " 4   pH             367 non-null    float64\n",
      " 5   E.C            368 non-null    int64  \n",
      " 6   TDS            368 non-null    float64\n",
      " 7   CO3            368 non-null    float64\n",
      " 8   HCO3           368 non-null    int64  \n",
      " 9   Cl             368 non-null    int64  \n",
      " 10  F              368 non-null    float64\n",
      " 11  NO3            368 non-null    float64\n",
      " 12  SO4            368 non-null    float64\n",
      " 13  Na             368 non-null    float64\n",
      " 14  K              368 non-null    float64\n",
      " 15  Ca             368 non-null    float64\n",
      " 16  Mg             368 non-null    float64\n",
      " 17  T.H            368 non-null    float64\n",
      " 18  SAR            368 non-null    float64\n",
      " 19  RSC  meq  / L  368 non-null    float64\n",
      "dtypes: float64(16), int64(4)\n",
      "memory usage: 57.6 KB\n"
     ]
    }
   ],
   "source": [
    "ground_water_df[numeric].info()"
   ]
  }
 ],
 "metadata": {
  "kernelspec": {
   "display_name": "Python 3 (ipykernel)",
   "language": "python",
   "name": "python3"
  },
  "language_info": {
   "codemirror_mode": {
    "name": "ipython",
    "version": 3
   },
   "file_extension": ".py",
   "mimetype": "text/x-python",
   "name": "python",
   "nbconvert_exporter": "python",
   "pygments_lexer": "ipython3",
   "version": "3.9.7"
  }
 },
 "nbformat": 4,
 "nbformat_minor": 5
}
