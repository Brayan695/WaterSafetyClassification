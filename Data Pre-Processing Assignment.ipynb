{
 "cells": [
  {
   "cell_type": "markdown",
   "id": "278f4967",
   "metadata": {},
   "source": [
    "# Data Pre-Processing Assignment\n",
    "\n",
    "### Brayan Gutierrez, Katie To, Jericka Ledezma\n",
    "***"
   ]
  },
  {
   "cell_type": "code",
   "execution_count": 1,
   "id": "c3d2e0c1",
   "metadata": {},
   "outputs": [],
   "source": [
    "import pandas as pd\n",
    "import numpy as np\n",
    "import matplotlib as plt\n",
    "from sklearn.preprocessing import normalize"
   ]
  },
  {
   "cell_type": "markdown",
   "id": "c44be815",
   "metadata": {},
   "source": [
    "## Reading Data"
   ]
  },
  {
   "cell_type": "code",
   "execution_count": 2,
   "id": "e54a2637",
   "metadata": {},
   "outputs": [
    {
     "name": "stdout",
     "output_type": "stream",
     "text": [
      "      sno  district       mandal      village  lat_gis  long_gis  RL_GIS  \\\n",
      "0       1  ADILABAD     Adilabad     Adilabad    78.52     19.67   253.0   \n",
      "1       2  ADILABAD  Bazarhatnur  Bazarhatnur    78.35     19.46   435.0   \n",
      "2       3  ADILABAD         Bela   Chandpally    78.85     19.68   247.0   \n",
      "3       4  ADILABAD     Bheempur         Arli    78.38     19.83   224.0   \n",
      "4       5  ADILABAD     Bheempur     Bheempur    78.42     19.77   245.0   \n",
      "...   ...       ...          ...          ...      ...       ...     ...   \n",
      "1019   31   YADADRI    Valigonda   T. somaram    78.95     17.40   339.0   \n",
      "1020   32   YADADRI    Valigonda  Varkatpally    78.93     17.34   339.0   \n",
      "1021   33   YADADRI    Valigonda  Vemulakonda    79.14     17.35   265.0   \n",
      "1022   34   YADADRI      Y.Gutta   Mallapuram    78.91     17.63   439.0   \n",
      "1023   35   YADADRI      Y.Gutta   Motakondur    79.03     17.55   342.0   \n",
      "\n",
      "                 season    pH     E.C  ...    SO4     Na     K     Ca    Mg  \\\n",
      "0     Post-monsoon 2021  8.04  1065.0  ...   69.0   85.0   3.0   64.0  53.0   \n",
      "1     Post-monsoon 2021  8.21   122.0  ...    9.0   14.0   2.0    8.0  10.0   \n",
      "2     Post-monsoon 2021  7.99   945.0  ...   13.0  118.0   3.0   40.0  34.0   \n",
      "3     Post-monsoon 2021  8.01  1028.0  ...   15.0  104.0   9.0   40.0  49.0   \n",
      "4     Post-monsoon 2021  8.11  1110.0  ...   13.0   84.0   2.0   72.0  49.0   \n",
      "...                 ...   ...     ...  ...    ...    ...   ...    ...   ...   \n",
      "1019  Post-monsoon 2021  8.06  1287.0  ...  106.0  162.0   4.0  104.0  19.0   \n",
      "1020  Post-monsoon 2021  7.20  2284.0  ...  136.0  229.0  18.0  200.0  58.0   \n",
      "1021  Post-monsoon 2021  7.44  3352.0  ...  266.0  322.0   3.0  320.0  63.0   \n",
      "1022  Post-monsoon 2021  8.01   510.0  ...   42.0   42.0   2.0   64.0  15.0   \n",
      "1023  Post-monsoon 2021  7.14   651.0  ...   14.0   31.0   4.0  128.0  10.0   \n",
      "\n",
      "         T.H   SAR  Classification  RSC  meq  / L  Classification.1  \n",
      "0      380.0  1.90            C3S1           -3.0              P.S.  \n",
      "1       60.0  0.79            C1S1           -0.4              P.S.  \n",
      "2      240.0  3.31            C3S1            2.0                MR  \n",
      "3      300.0  2.61            C3S1           -0.2              P.S.  \n",
      "4      380.0  1.87            C3S1           -1.6              P.S.  \n",
      "...      ...   ...             ...            ...               ...  \n",
      "1019   340.0  3.82            C3S1            0.2              P.S.  \n",
      "1020   740.0  3.66            C4S1           -7.2              P.S.  \n",
      "1021  1060.0  4.30            C4S2          -16.0              P.S.  \n",
      "1022   220.0  1.23            C2S1            0.4              P.S.  \n",
      "1023   360.0  0.71            C2S1           -0.6              P.S.  \n",
      "\n",
      "[817 rows x 26 columns]\n"
     ]
    }
   ],
   "source": [
    "ground_water = pd.read_csv(\"ground_water_quality_2022_post.csv\")\n",
    "ground_water_df = pd.DataFrame(ground_water)\n",
    "ground_water_df = ground_water_df.dropna()\n",
    "print(ground_water_df)"
   ]
  },
  {
   "cell_type": "markdown",
   "id": "611eb7ee",
   "metadata": {},
   "source": [
    "## Data Cleaning\n",
    "***"
   ]
  },
  {
   "cell_type": "code",
   "execution_count": 3,
   "id": "da69b16a",
   "metadata": {},
   "outputs": [
    {
     "name": "stdout",
     "output_type": "stream",
     "text": [
      "<class 'pandas.core.frame.DataFrame'>\n",
      "Int64Index: 817 entries, 0 to 1023\n",
      "Data columns (total 26 columns):\n",
      " #   Column            Non-Null Count  Dtype  \n",
      "---  ------            --------------  -----  \n",
      " 0   sno               817 non-null    int64  \n",
      " 1   district          817 non-null    object \n",
      " 2   mandal            817 non-null    object \n",
      " 3   village           817 non-null    object \n",
      " 4   lat_gis           817 non-null    float64\n",
      " 5   long_gis          817 non-null    float64\n",
      " 6   RL_GIS            817 non-null    float64\n",
      " 7   season            817 non-null    object \n",
      " 8   pH                817 non-null    float64\n",
      " 9   E.C               817 non-null    float64\n",
      " 10  TDS               817 non-null    float64\n",
      " 11  CO3               817 non-null    float64\n",
      " 12  HCO3              817 non-null    float64\n",
      " 13  Cl                817 non-null    float64\n",
      " 14  F                 817 non-null    float64\n",
      " 15  NO3               817 non-null    float64\n",
      " 16  SO4               817 non-null    float64\n",
      " 17  Na                817 non-null    float64\n",
      " 18  K                 817 non-null    float64\n",
      " 19  Ca                817 non-null    float64\n",
      " 20  Mg                817 non-null    float64\n",
      " 21  T.H               817 non-null    float64\n",
      " 22  SAR               817 non-null    float64\n",
      " 23  Classification    817 non-null    object \n",
      " 24  RSC  meq  / L     817 non-null    float64\n",
      " 25  Classification.1  817 non-null    object \n",
      "dtypes: float64(19), int64(1), object(6)\n",
      "memory usage: 172.3+ KB\n"
     ]
    }
   ],
   "source": [
    "ground_water_df['pH'] = pd.to_numeric(ground_water_df['pH'], errors='coerce')\n",
    "ground_water_df.info(verbose=True)"
   ]
  },
  {
   "cell_type": "markdown",
   "id": "ec783cc0",
   "metadata": {},
   "source": [
    "### Separating Numeric and Non-numeric Columns"
   ]
  },
  {
   "cell_type": "code",
   "execution_count": 4,
   "id": "3081d94b",
   "metadata": {},
   "outputs": [
    {
     "name": "stdout",
     "output_type": "stream",
     "text": [
      "Index(['sno', 'lat_gis', 'long_gis', 'RL_GIS', 'pH', 'E.C', 'TDS', 'CO3',\n",
      "       'HCO3', 'Cl', 'F', 'NO3', 'SO4', 'Na', 'K', 'Ca', 'Mg', 'T.H', 'SAR',\n",
      "       'RSC'],\n",
      "      dtype='object')\n",
      "Index(['district', 'mandal', 'village', 'season', 'Classification',\n",
      "       'Classification.1'],\n",
      "      dtype='object')\n"
     ]
    }
   ],
   "source": [
    "ground_water_df = ground_water_df.rename(columns = {'NO3 ': 'NO3'})\n",
    "ground_water_df = ground_water_df.rename(columns = {'RSC  meq  / L': 'RSC'})\n",
    "numeric = ground_water_df.select_dtypes(include=['number']).columns\n",
    "nonnumeric = ground_water_df.select_dtypes(exclude=['number']).columns\n",
    "\n",
    "print(numeric)\n",
    "print(nonnumeric)"
   ]
  },
  {
   "cell_type": "markdown",
   "id": "856a78e8",
   "metadata": {},
   "source": [
    "### Finding Missing Data"
   ]
  },
  {
   "cell_type": "code",
   "execution_count": 5,
   "id": "49bda89c",
   "metadata": {},
   "outputs": [
    {
     "name": "stdout",
     "output_type": "stream",
     "text": [
      "<class 'pandas.core.frame.DataFrame'>\n",
      "Int64Index: 817 entries, 0 to 1023\n",
      "Data columns (total 6 columns):\n",
      " #   Column            Non-Null Count  Dtype \n",
      "---  ------            --------------  ----- \n",
      " 0   district          817 non-null    object\n",
      " 1   mandal            817 non-null    object\n",
      " 2   village           817 non-null    object\n",
      " 3   season            817 non-null    object\n",
      " 4   Classification    817 non-null    object\n",
      " 5   Classification.1  817 non-null    object\n",
      "dtypes: object(6)\n",
      "memory usage: 44.7+ KB\n"
     ]
    }
   ],
   "source": [
    "ground_water_df[nonnumeric].info()"
   ]
  },
  {
   "cell_type": "code",
   "execution_count": 6,
   "id": "c4f40052",
   "metadata": {},
   "outputs": [
    {
     "name": "stdout",
     "output_type": "stream",
     "text": [
      "<class 'pandas.core.frame.DataFrame'>\n",
      "Int64Index: 817 entries, 0 to 1023\n",
      "Data columns (total 20 columns):\n",
      " #   Column    Non-Null Count  Dtype  \n",
      "---  ------    --------------  -----  \n",
      " 0   sno       817 non-null    int64  \n",
      " 1   lat_gis   817 non-null    float64\n",
      " 2   long_gis  817 non-null    float64\n",
      " 3   RL_GIS    817 non-null    float64\n",
      " 4   pH        817 non-null    float64\n",
      " 5   E.C       817 non-null    float64\n",
      " 6   TDS       817 non-null    float64\n",
      " 7   CO3       817 non-null    float64\n",
      " 8   HCO3      817 non-null    float64\n",
      " 9   Cl        817 non-null    float64\n",
      " 10  F         817 non-null    float64\n",
      " 11  NO3       817 non-null    float64\n",
      " 12  SO4       817 non-null    float64\n",
      " 13  Na        817 non-null    float64\n",
      " 14  K         817 non-null    float64\n",
      " 15  Ca        817 non-null    float64\n",
      " 16  Mg        817 non-null    float64\n",
      " 17  T.H       817 non-null    float64\n",
      " 18  SAR       817 non-null    float64\n",
      " 19  RSC       817 non-null    float64\n",
      "dtypes: float64(19), int64(1)\n",
      "memory usage: 134.0 KB\n"
     ]
    }
   ],
   "source": [
    "ground_water_df[numeric].info()"
   ]
  },
  {
   "cell_type": "markdown",
   "id": "1f65a4a8",
   "metadata": {},
   "source": [
    "### No missing data!!"
   ]
  },
  {
   "cell_type": "markdown",
   "id": "30f267ba",
   "metadata": {},
   "source": [
    "## Outlier Detection"
   ]
  },
  {
   "cell_type": "markdown",
   "id": "eb680801",
   "metadata": {},
   "source": [
    "### We will be using histograms and boxplots for each numeric variable to determine any possible outliers:"
   ]
  },
  {
   "cell_type": "markdown",
   "id": "1f3de822",
   "metadata": {},
   "source": [
    "#### Serial Number (sno)"
   ]
  },
  {
   "cell_type": "code",
   "execution_count": 7,
   "id": "eed1f0ff",
   "metadata": {},
   "outputs": [
    {
     "data": {
      "text/plain": [
       "<AxesSubplot:>"
      ]
     },
     "execution_count": 7,
     "metadata": {},
     "output_type": "execute_result"
    },
    {
     "data": {
      "image/png": "[encoded data removed]",
      "text/plain": [
       "<Figure size 432x288 with 1 Axes>"
      ]
     },
     "metadata": {
      "needs_background": "light"
     },
     "output_type": "display_data"
    }
   ],
   "source": [
    "ground_water_df['sno'].hist(bins = 1000)"
   ]
  },
  {
   "cell_type": "code",
   "execution_count": 8,
   "id": "9ca84136",
   "metadata": {},
   "outputs": [
    {
     "data": {
      "text/plain": [
       "<AxesSubplot:>"
      ]
     },
     "execution_count": 8,
     "metadata": {},
     "output_type": "execute_result"
    },
    {
     "data": {
      "image/png": "[encoded data removed]",
      "text/plain": [
       "<Figure size 432x288 with 1 Axes>"
      ]
     },
     "metadata": {
      "needs_background": "light"
     },
     "output_type": "display_data"
    }
   ],
   "source": [
    "ground_water_df.boxplot(column=['sno'])"
   ]
  },
  {
   "cell_type": "markdown",
   "id": "d79b5e84",
   "metadata": {},
   "source": [
    "#### Lattitude (lat_gis)"
   ]
  },
  {
   "cell_type": "code",
   "execution_count": 9,
   "id": "d4d978ba",
   "metadata": {},
   "outputs": [
    {
     "data": {
      "text/plain": [
       "<AxesSubplot:>"
      ]
     },
     "execution_count": 9,
     "metadata": {},
     "output_type": "execute_result"
    },
    {
     "data": {
      "image/png": "[encoded data removed]",
      "text/plain": [
       "<Figure size 432x288 with 1 Axes>"
      ]
     },
     "metadata": {
      "needs_background": "light"
     },
     "output_type": "display_data"
    }
   ],
   "source": [
    "ground_water_df['lat_gis'].hist(bins = 1000)"
   ]
  },
  {
   "cell_type": "code",
   "execution_count": 10,
   "id": "6788151e",
   "metadata": {},
   "outputs": [
    {
     "data": {
      "text/plain": [
       "<AxesSubplot:>"
      ]
     },
     "execution_count": 10,
     "metadata": {},
     "output_type": "execute_result"
    },
    {
     "data": {
      "image/png": "[encoded data removed]",
      "text/plain": [
       "<Figure size 432x288 with 1 Axes>"
      ]
     },
     "metadata": {
      "needs_background": "light"
     },
     "output_type": "display_data"
    }
   ],
   "source": [
    "ground_water_df.boxplot(column=['lat_gis'])"
   ]
  },
  {
   "cell_type": "markdown",
   "id": "dceef861",
   "metadata": {},
   "source": [
    "#### Longitude (long_gis)"
   ]
  },
  {
   "cell_type": "code",
   "execution_count": 11,
   "id": "361f1522",
   "metadata": {},
   "outputs": [
    {
     "data": {
      "text/plain": [
       "<AxesSubplot:>"
      ]
     },
     "execution_count": 11,
     "metadata": {},
     "output_type": "execute_result"
    },
    {
     "data": {
      "image/png": "[encoded data removed]",
      "text/plain": [
       "<Figure size 432x288 with 1 Axes>"
      ]
     },
     "metadata": {
      "needs_background": "light"
     },
     "output_type": "display_data"
    }
   ],
   "source": [
    "ground_water_df['long_gis'].hist(bins = 1000)"
   ]
  },
  {
   "cell_type": "code",
   "execution_count": 12,
   "id": "1d8445c3",
   "metadata": {},
   "outputs": [
    {
     "data": {
      "text/plain": [
       "<AxesSubplot:>"
      ]
     },
     "execution_count": 12,
     "metadata": {},
     "output_type": "execute_result"
    },
    {
     "data": {
      "image/png": "[encoded data removed]",
      "text/plain": [
       "<Figure size 432x288 with 1 Axes>"
      ]
     },
     "metadata": {
      "needs_background": "light"
     },
     "output_type": "display_data"
    }
   ],
   "source": [
    "ground_water_df.boxplot(column=['long_gis'])"
   ]
  },
  {
   "cell_type": "markdown",
   "id": "077323be",
   "metadata": {},
   "source": [
    "#### Ground Water Level (gwl)"
   ]
  },
  {
   "cell_type": "code",
   "execution_count": 13,
   "id": "908eb0b1",
   "metadata": {},
   "outputs": [
    {
     "data": {
      "text/plain": [
       "<AxesSubplot:>"
      ]
     },
     "execution_count": 13,
     "metadata": {},
     "output_type": "execute_result"
    },
    {
     "data": {
      "image/png": "[encoded data removed]",
      "text/plain": [
       "<Figure size 432x288 with 1 Axes>"
      ]
     },
     "metadata": {
      "needs_background": "light"
     },
     "output_type": "display_data"
    }
   ],
   "source": [
    "ground_water_df['RL_GIS'].hist(bins = 1000)"
   ]
  },
  {
   "cell_type": "code",
   "execution_count": 14,
   "id": "e1401b13",
   "metadata": {},
   "outputs": [
    {
     "data": {
      "text/plain": [
       "<AxesSubplot:>"
      ]
     },
     "execution_count": 14,
     "metadata": {},
     "output_type": "execute_result"
    },
    {
     "data": {
      "image/png": "[encoded data removed]",
      "text/plain": [
       "<Figure size 432x288 with 1 Axes>"
      ]
     },
     "metadata": {
      "needs_background": "light"
     },
     "output_type": "display_data"
    }
   ],
   "source": [
    "ground_water_df.boxplot(column=['RL_GIS'])"
   ]
  },
  {
   "cell_type": "markdown",
   "id": "8e7e8632",
   "metadata": {},
   "source": [
    "#### pH"
   ]
  },
  {
   "cell_type": "code",
   "execution_count": 15,
   "id": "9c11c46d",
   "metadata": {},
   "outputs": [
    {
     "data": {
      "text/plain": [
       "<AxesSubplot:>"
      ]
     },
     "execution_count": 15,
     "metadata": {},
     "output_type": "execute_result"
    },
    {
     "data": {
      "image/png": "[encoded data removed]",
      "text/plain": [
       "<Figure size 432x288 with 1 Axes>"
      ]
     },
     "metadata": {
      "needs_background": "light"
     },
     "output_type": "display_data"
    }
   ],
   "source": [
    "ground_water_df['pH'].hist(bins = 1000)"
   ]
  },
  {
   "cell_type": "code",
   "execution_count": 16,
   "id": "abea2804",
   "metadata": {},
   "outputs": [
    {
     "data": {
      "text/plain": [
       "<AxesSubplot:>"
      ]
     },
     "execution_count": 16,
     "metadata": {},
     "output_type": "execute_result"
    },
    {
     "data": {
      "image/png": "[encoded data removed]",
      "text/plain": [
       "<Figure size 432x288 with 1 Axes>"
      ]
     },
     "metadata": {
      "needs_background": "light"
     },
     "output_type": "display_data"
    }
   ],
   "source": [
    "ground_water_df.boxplot(column=['pH'])"
   ]
  },
  {
   "cell_type": "markdown",
   "id": "a7783f76",
   "metadata": {},
   "source": [
    "#### Electrical Conductivity (E.C)"
   ]
  },
  {
   "cell_type": "code",
   "execution_count": 17,
   "id": "d161124c",
   "metadata": {},
   "outputs": [
    {
     "data": {
      "text/plain": [
       "<AxesSubplot:>"
      ]
     },
     "execution_count": 17,
     "metadata": {},
     "output_type": "execute_result"
    },
    {
     "data": {
      "image/png": "[encoded data removed]",
      "text/plain": [
       "<Figure size 432x288 with 1 Axes>"
      ]
     },
     "metadata": {
      "needs_background": "light"
     },
     "output_type": "display_data"
    }
   ],
   "source": [
    "ground_water_df['E.C'].hist(bins = 1000)"
   ]
  },
  {
   "cell_type": "code",
   "execution_count": 18,
   "id": "4745f4a5",
   "metadata": {},
   "outputs": [
    {
     "data": {
      "text/plain": [
       "<AxesSubplot:>"
      ]
     },
     "execution_count": 18,
     "metadata": {},
     "output_type": "execute_result"
    },
    {
     "data": {
      "image/png": "[encoded data removed]",
      "text/plain": [
       "<Figure size 432x288 with 1 Axes>"
      ]
     },
     "metadata": {
      "needs_background": "light"
     },
     "output_type": "display_data"
    }
   ],
   "source": [
    "ground_water_df.boxplot(column=['E.C'])"
   ]
  },
  {
   "cell_type": "markdown",
   "id": "2ff911e5",
   "metadata": {},
   "source": [
    "#### Total Dissolved Solids (TDS)"
   ]
  },
  {
   "cell_type": "code",
   "execution_count": 19,
   "id": "82884390",
   "metadata": {},
   "outputs": [
    {
     "data": {
      "text/plain": [
       "<AxesSubplot:>"
      ]
     },
     "execution_count": 19,
     "metadata": {},
     "output_type": "execute_result"
    },
    {
     "data": {
      "image/png": "[encoded data removed]",
      "text/plain": [
       "<Figure size 432x288 with 1 Axes>"
      ]
     },
     "metadata": {
      "needs_background": "light"
     },
     "output_type": "display_data"
    }
   ],
   "source": [
    "ground_water_df['TDS'].hist(bins = 1000)"
   ]
  },
  {
   "cell_type": "code",
   "execution_count": 20,
   "id": "de6fcf1b",
   "metadata": {},
   "outputs": [
    {
     "data": {
      "text/plain": [
       "<AxesSubplot:>"
      ]
     },
     "execution_count": 20,
     "metadata": {},
     "output_type": "execute_result"
    },
    {
     "data": {
      "image/png": "[encoded data removed]",
      "text/plain": [
       "<Figure size 432x288 with 1 Axes>"
      ]
     },
     "metadata": {
      "needs_background": "light"
     },
     "output_type": "display_data"
    }
   ],
   "source": [
    "ground_water_df.boxplot(column=['TDS'])"
   ]
  },
  {
   "cell_type": "markdown",
   "id": "e09fb31f",
   "metadata": {},
   "source": [
    "#### Carbonate Present (CO3)"
   ]
  },
  {
   "cell_type": "code",
   "execution_count": 21,
   "id": "7c5cd56e",
   "metadata": {},
   "outputs": [
    {
     "data": {
      "text/plain": [
       "<AxesSubplot:>"
      ]
     },
     "execution_count": 21,
     "metadata": {},
     "output_type": "execute_result"
    },
    {
     "data": {
      "image/png": "[encoded data removed]",
      "text/plain": [
       "<Figure size 432x288 with 1 Axes>"
      ]
     },
     "metadata": {
      "needs_background": "light"
     },
     "output_type": "display_data"
    }
   ],
   "source": [
    "ground_water_df['CO3'].hist(bins = 200)"
   ]
  },
  {
   "cell_type": "code",
   "execution_count": 22,
   "id": "45774bbb",
   "metadata": {},
   "outputs": [
    {
     "data": {
      "text/plain": [
       "<AxesSubplot:>"
      ]
     },
     "execution_count": 22,
     "metadata": {},
     "output_type": "execute_result"
    },
    {
     "data": {
      "image/png": "[encoded data removed]",
      "text/plain": [
       "<Figure size 432x288 with 1 Axes>"
      ]
     },
     "metadata": {
      "needs_background": "light"
     },
     "output_type": "display_data"
    }
   ],
   "source": [
    "ground_water_df.boxplot(column=['CO3'])"
   ]
  },
  {
   "cell_type": "markdown",
   "id": "e53167ff",
   "metadata": {},
   "source": [
    "#### Bicarbonate Present (HCO3)"
   ]
  },
  {
   "cell_type": "code",
   "execution_count": 23,
   "id": "cce57330",
   "metadata": {},
   "outputs": [
    {
     "data": {
      "text/plain": [
       "<AxesSubplot:>"
      ]
     },
     "execution_count": 23,
     "metadata": {},
     "output_type": "execute_result"
    },
    {
     "data": {
      "image/png": "[encoded data removed]",
      "text/plain": [
       "<Figure size 432x288 with 1 Axes>"
      ]
     },
     "metadata": {
      "needs_background": "light"
     },
     "output_type": "display_data"
    }
   ],
   "source": [
    "ground_water_df['HCO3'].hist(bins = 1000)"
   ]
  },
  {
   "cell_type": "code",
   "execution_count": 24,
   "id": "3db8261d",
   "metadata": {},
   "outputs": [
    {
     "data": {
      "text/plain": [
       "<AxesSubplot:>"
      ]
     },
     "execution_count": 24,
     "metadata": {},
     "output_type": "execute_result"
    },
    {
     "data": {
      "image/png": "[encoded data removed]",
      "text/plain": [
       "<Figure size 432x288 with 1 Axes>"
      ]
     },
     "metadata": {
      "needs_background": "light"
     },
     "output_type": "display_data"
    }
   ],
   "source": [
    "ground_water_df.boxplot(column=['HCO3'])"
   ]
  },
  {
   "cell_type": "markdown",
   "id": "b9d85833",
   "metadata": {},
   "source": [
    "#### Chloride Present (Cl)"
   ]
  },
  {
   "cell_type": "code",
   "execution_count": 25,
   "id": "f1b25b9f",
   "metadata": {},
   "outputs": [
    {
     "data": {
      "text/plain": [
       "<AxesSubplot:>"
      ]
     },
     "execution_count": 25,
     "metadata": {},
     "output_type": "execute_result"
    },
    {
     "data": {
      "image/png": "[encoded data removed]",
      "text/plain": [
       "<Figure size 432x288 with 1 Axes>"
      ]
     },
     "metadata": {
      "needs_background": "light"
     },
     "output_type": "display_data"
    }
   ],
   "source": [
    "ground_water_df['Cl'].hist(bins = 1000)"
   ]
  },
  {
   "cell_type": "code",
   "execution_count": 26,
   "id": "ef362338",
   "metadata": {},
   "outputs": [
    {
     "data": {
      "text/plain": [
       "<AxesSubplot:>"
      ]
     },
     "execution_count": 26,
     "metadata": {},
     "output_type": "execute_result"
    },
    {
     "data": {
      "image/png": "[encoded data removed]",
      "text/plain": [
       "<Figure size 432x288 with 1 Axes>"
      ]
     },
     "metadata": {
      "needs_background": "light"
     },
     "output_type": "display_data"
    }
   ],
   "source": [
    "ground_water_df.boxplot(column=['Cl'])"
   ]
  },
  {
   "cell_type": "markdown",
   "id": "cd6a8f3b",
   "metadata": {},
   "source": [
    "#### Flouride Present (F)"
   ]
  },
  {
   "cell_type": "code",
   "execution_count": 27,
   "id": "422c1911",
   "metadata": {},
   "outputs": [
    {
     "data": {
      "text/plain": [
       "<AxesSubplot:>"
      ]
     },
     "execution_count": 27,
     "metadata": {},
     "output_type": "execute_result"
    },
    {
     "data": {
      "image/png": "[encoded data removed]",
      "text/plain": [
       "<Figure size 432x288 with 1 Axes>"
      ]
     },
     "metadata": {
      "needs_background": "light"
     },
     "output_type": "display_data"
    }
   ],
   "source": [
    "ground_water_df['F'].hist(bins = 1000)"
   ]
  },
  {
   "cell_type": "code",
   "execution_count": 28,
   "id": "e79439f5",
   "metadata": {},
   "outputs": [
    {
     "data": {
      "text/plain": [
       "<AxesSubplot:>"
      ]
     },
     "execution_count": 28,
     "metadata": {},
     "output_type": "execute_result"
    },
    {
     "data": {
      "image/png": "[encoded data removed]",
      "text/plain": [
       "<Figure size 432x288 with 1 Axes>"
      ]
     },
     "metadata": {
      "needs_background": "light"
     },
     "output_type": "display_data"
    }
   ],
   "source": [
    "ground_water_df.boxplot(column=['F'])"
   ]
  },
  {
   "cell_type": "markdown",
   "id": "21e44bd7",
   "metadata": {},
   "source": [
    "#### Nitrate Present (NO3)"
   ]
  },
  {
   "cell_type": "code",
   "execution_count": 29,
   "id": "fce16c44",
   "metadata": {},
   "outputs": [
    {
     "data": {
      "text/plain": [
       "<AxesSubplot:>"
      ]
     },
     "execution_count": 29,
     "metadata": {},
     "output_type": "execute_result"
    },
    {
     "data": {
      "image/png": "[encoded data removed]",
      "text/plain": [
       "<Figure size 432x288 with 1 Axes>"
      ]
     },
     "metadata": {
      "needs_background": "light"
     },
     "output_type": "display_data"
    }
   ],
   "source": [
    "ground_water_df['NO3'].hist(bins = 100)"
   ]
  },
  {
   "cell_type": "code",
   "execution_count": 30,
   "id": "1490299e",
   "metadata": {},
   "outputs": [
    {
     "data": {
      "text/plain": [
       "<AxesSubplot:>"
      ]
     },
     "execution_count": 30,
     "metadata": {},
     "output_type": "execute_result"
    },
    {
     "data": {
      "image/png": "[encoded data removed]",
      "text/plain": [
       "<Figure size 432x288 with 1 Axes>"
      ]
     },
     "metadata": {
      "needs_background": "light"
     },
     "output_type": "display_data"
    }
   ],
   "source": [
    "ground_water_df.boxplot(column=['NO3'])"
   ]
  },
  {
   "cell_type": "markdown",
   "id": "021ac1e9",
   "metadata": {},
   "source": [
    "#### Sulphate Present (SO4)"
   ]
  },
  {
   "cell_type": "code",
   "execution_count": 31,
   "id": "dc6a9c8b",
   "metadata": {},
   "outputs": [
    {
     "data": {
      "text/plain": [
       "<AxesSubplot:>"
      ]
     },
     "execution_count": 31,
     "metadata": {},
     "output_type": "execute_result"
    },
    {
     "data": {
      "image/png": "[encoded data removed]",
      "text/plain": [
       "<Figure size 432x288 with 1 Axes>"
      ]
     },
     "metadata": {
      "needs_background": "light"
     },
     "output_type": "display_data"
    }
   ],
   "source": [
    "ground_water_df['SO4'].hist(bins = 100)"
   ]
  },
  {
   "cell_type": "code",
   "execution_count": 32,
   "id": "ebf2d998",
   "metadata": {},
   "outputs": [
    {
     "data": {
      "text/plain": [
       "<AxesSubplot:>"
      ]
     },
     "execution_count": 32,
     "metadata": {},
     "output_type": "execute_result"
    },
    {
     "data": {
      "image/png": "[encoded data removed]",
      "text/plain": [
       "<Figure size 432x288 with 1 Axes>"
      ]
     },
     "metadata": {
      "needs_background": "light"
     },
     "output_type": "display_data"
    }
   ],
   "source": [
    "ground_water_df.boxplot(column=['SO4'])"
   ]
  },
  {
   "cell_type": "markdown",
   "id": "8928fb6e",
   "metadata": {},
   "source": [
    "#### Sodium Present (Na)"
   ]
  },
  {
   "cell_type": "code",
   "execution_count": 33,
   "id": "be28e731",
   "metadata": {},
   "outputs": [
    {
     "data": {
      "text/plain": [
       "<AxesSubplot:>"
      ]
     },
     "execution_count": 33,
     "metadata": {},
     "output_type": "execute_result"
    },
    {
     "data": {
      "image/png": "[encoded data removed]",
      "text/plain": [
       "<Figure size 432x288 with 1 Axes>"
      ]
     },
     "metadata": {
      "needs_background": "light"
     },
     "output_type": "display_data"
    }
   ],
   "source": [
    "ground_water_df['Na'].hist(bins = 100)"
   ]
  },
  {
   "cell_type": "code",
   "execution_count": 34,
   "id": "8ed621d0",
   "metadata": {},
   "outputs": [
    {
     "data": {
      "text/plain": [
       "<AxesSubplot:>"
      ]
     },
     "execution_count": 34,
     "metadata": {},
     "output_type": "execute_result"
    },
    {
     "data": {
      "image/png": "[encoded data removed]",
      "text/plain": [
       "<Figure size 432x288 with 1 Axes>"
      ]
     },
     "metadata": {
      "needs_background": "light"
     },
     "output_type": "display_data"
    }
   ],
   "source": [
    "ground_water_df.boxplot(column=['Na'])"
   ]
  },
  {
   "cell_type": "markdown",
   "id": "f3987ecf",
   "metadata": {},
   "source": [
    "#### Potassium Present (K)"
   ]
  },
  {
   "cell_type": "code",
   "execution_count": 35,
   "id": "11f6ebb6",
   "metadata": {},
   "outputs": [
    {
     "data": {
      "text/plain": [
       "<AxesSubplot:>"
      ]
     },
     "execution_count": 35,
     "metadata": {},
     "output_type": "execute_result"
    },
    {
     "data": {
      "image/png": "[encoded data removed]",
      "text/plain": [
       "<Figure size 432x288 with 1 Axes>"
      ]
     },
     "metadata": {
      "needs_background": "light"
     },
     "output_type": "display_data"
    }
   ],
   "source": [
    "ground_water_df['K'].hist(bins = 100)"
   ]
  },
  {
   "cell_type": "code",
   "execution_count": 36,
   "id": "fc718a53",
   "metadata": {},
   "outputs": [
    {
     "data": {
      "text/plain": [
       "<AxesSubplot:>"
      ]
     },
     "execution_count": 36,
     "metadata": {},
     "output_type": "execute_result"
    },
    {
     "data": {
      "image/png": "[encoded data removed]",
      "text/plain": [
       "<Figure size 432x288 with 1 Axes>"
      ]
     },
     "metadata": {
      "needs_background": "light"
     },
     "output_type": "display_data"
    }
   ],
   "source": [
    "ground_water_df.boxplot(column=['K'])"
   ]
  },
  {
   "cell_type": "markdown",
   "id": "bc6a485e",
   "metadata": {},
   "source": [
    "#### Calcium Present (Ca)"
   ]
  },
  {
   "cell_type": "code",
   "execution_count": 37,
   "id": "76e91a6b",
   "metadata": {},
   "outputs": [
    {
     "data": {
      "text/plain": [
       "<AxesSubplot:>"
      ]
     },
     "execution_count": 37,
     "metadata": {},
     "output_type": "execute_result"
    },
    {
     "data": {
      "image/png": "[encoded data removed]",
      "text/plain": [
       "<Figure size 432x288 with 1 Axes>"
      ]
     },
     "metadata": {
      "needs_background": "light"
     },
     "output_type": "display_data"
    }
   ],
   "source": [
    "ground_water_df['Ca'].hist(bins = 100)"
   ]
  },
  {
   "cell_type": "code",
   "execution_count": 38,
   "id": "8cf040bc",
   "metadata": {},
   "outputs": [
    {
     "data": {
      "text/plain": [
       "<AxesSubplot:>"
      ]
     },
     "execution_count": 38,
     "metadata": {},
     "output_type": "execute_result"
    },
    {
     "data": {
      "image/png": "[encoded data removed]",
      "text/plain": [
       "<Figure size 432x288 with 1 Axes>"
      ]
     },
     "metadata": {
      "needs_background": "light"
     },
     "output_type": "display_data"
    }
   ],
   "source": [
    "ground_water_df.boxplot(column=['Ca'])"
   ]
  },
  {
   "cell_type": "markdown",
   "id": "38033651",
   "metadata": {},
   "source": [
    "#### Magnessium Present (Mg)"
   ]
  },
  {
   "cell_type": "code",
   "execution_count": 39,
   "id": "45533e95",
   "metadata": {},
   "outputs": [
    {
     "data": {
      "text/plain": [
       "<AxesSubplot:>"
      ]
     },
     "execution_count": 39,
     "metadata": {},
     "output_type": "execute_result"
    },
    {
     "data": {
      "image/png": "[encoded data removed]",
      "text/plain": [
       "<Figure size 432x288 with 1 Axes>"
      ]
     },
     "metadata": {
      "needs_background": "light"
     },
     "output_type": "display_data"
    }
   ],
   "source": [
    "ground_water_df['Mg'].hist(bins = 100)"
   ]
  },
  {
   "cell_type": "code",
   "execution_count": 40,
   "id": "11c4f237",
   "metadata": {},
   "outputs": [
    {
     "data": {
      "text/plain": [
       "<AxesSubplot:>"
      ]
     },
     "execution_count": 40,
     "metadata": {},
     "output_type": "execute_result"
    },
    {
     "data": {
      "image/png": "[encoded data removed]",
      "text/plain": [
       "<Figure size 432x288 with 1 Axes>"
      ]
     },
     "metadata": {
      "needs_background": "light"
     },
     "output_type": "display_data"
    }
   ],
   "source": [
    "ground_water_df.boxplot(column=['Mg'])"
   ]
  },
  {
   "cell_type": "markdown",
   "id": "26fa5062",
   "metadata": {},
   "source": [
    "#### Total Hardness (T.H)"
   ]
  },
  {
   "cell_type": "code",
   "execution_count": 41,
   "id": "723d2ce1",
   "metadata": {},
   "outputs": [
    {
     "data": {
      "text/plain": [
       "<AxesSubplot:>"
      ]
     },
     "execution_count": 41,
     "metadata": {},
     "output_type": "execute_result"
    },
    {
     "data": {
      "image/png": "[encoded data removed]",
      "text/plain": [
       "<Figure size 432x288 with 1 Axes>"
      ]
     },
     "metadata": {
      "needs_background": "light"
     },
     "output_type": "display_data"
    }
   ],
   "source": [
    "ground_water_df['T.H'].hist(bins = 100)"
   ]
  },
  {
   "cell_type": "code",
   "execution_count": 42,
   "id": "7d5a4f76",
   "metadata": {},
   "outputs": [
    {
     "data": {
      "text/plain": [
       "<AxesSubplot:>"
      ]
     },
     "execution_count": 42,
     "metadata": {},
     "output_type": "execute_result"
    },
    {
     "data": {
      "image/png": "[encoded data removed]",
      "text/plain": [
       "<Figure size 432x288 with 1 Axes>"
      ]
     },
     "metadata": {
      "needs_background": "light"
     },
     "output_type": "display_data"
    }
   ],
   "source": [
    "ground_water_df.boxplot(column=['T.H'])"
   ]
  },
  {
   "cell_type": "markdown",
   "id": "341a0cb7",
   "metadata": {},
   "source": [
    "#### Sodium Adsoption Ratio (SAR)"
   ]
  },
  {
   "cell_type": "code",
   "execution_count": 43,
   "id": "9e588aa4",
   "metadata": {},
   "outputs": [
    {
     "data": {
      "text/plain": [
       "<AxesSubplot:>"
      ]
     },
     "execution_count": 43,
     "metadata": {},
     "output_type": "execute_result"
    },
    {
     "data": {
      "image/png": "[encoded data removed]",
      "text/plain": [
       "<Figure size 432x288 with 1 Axes>"
      ]
     },
     "metadata": {
      "needs_background": "light"
     },
     "output_type": "display_data"
    }
   ],
   "source": [
    "ground_water_df['SAR'].hist(bins = 100)"
   ]
  },
  {
   "cell_type": "code",
   "execution_count": 44,
   "id": "607cc7a6",
   "metadata": {},
   "outputs": [
    {
     "data": {
      "text/plain": [
       "<AxesSubplot:>"
      ]
     },
     "execution_count": 44,
     "metadata": {},
     "output_type": "execute_result"
    },
    {
     "data": {
      "image/png": "[encoded data removed]",
      "text/plain": [
       "<Figure size 432x288 with 1 Axes>"
      ]
     },
     "metadata": {
      "needs_background": "light"
     },
     "output_type": "display_data"
    }
   ],
   "source": [
    "ground_water_df.boxplot(column=['SAR'])"
   ]
  },
  {
   "cell_type": "markdown",
   "id": "a3e34eb4",
   "metadata": {},
   "source": [
    "#### Residual Sodium Carbonate (RSC)"
   ]
  },
  {
   "cell_type": "code",
   "execution_count": 45,
   "id": "026a6b05",
   "metadata": {},
   "outputs": [
    {
     "data": {
      "text/plain": [
       "<AxesSubplot:>"
      ]
     },
     "execution_count": 45,
     "metadata": {},
     "output_type": "execute_result"
    },
    {
     "data": {
      "image/png": "[encoded data removed]",
      "text/plain": [
       "<Figure size 432x288 with 1 Axes>"
      ]
     },
     "metadata": {
      "needs_background": "light"
     },
     "output_type": "display_data"
    }
   ],
   "source": [
    "ground_water_df['RSC'].hist(bins = 100)"
   ]
  },
  {
   "cell_type": "code",
   "execution_count": 46,
   "id": "a8426b95",
   "metadata": {},
   "outputs": [
    {
     "data": {
      "text/plain": [
       "<AxesSubplot:>"
      ]
     },
     "execution_count": 46,
     "metadata": {},
     "output_type": "execute_result"
    },
    {
     "data": {
      "image/png": "[encoded data removed]",
      "text/plain": [
       "<Figure size 432x288 with 1 Axes>"
      ]
     },
     "metadata": {
      "needs_background": "light"
     },
     "output_type": "display_data"
    }
   ],
   "source": [
    "ground_water_df.boxplot(column=['RSC'])"
   ]
  },
  {
   "cell_type": "markdown",
   "id": "7e2940ab",
   "metadata": {},
   "source": [
    "## Outlier Treatment: Flooring (1st Percentile) and Capping (99th Percentile)"
   ]
  },
  {
   "cell_type": "code",
   "execution_count": 47,
   "id": "61d4810b",
   "metadata": {},
   "outputs": [],
   "source": [
    "for num in numeric:\n",
    "    Q1 = ground_water_df[num].quantile(0.25)\n",
    "    Q3 = ground_water_df[num].quantile(0.75)\n",
    "    IQR = Q3 - Q1\n",
    "    whisker_width = 1.5\n",
    "    lower_whisker = Q1 -(whisker_width*IQR)\n",
    "    upper_whisker = Q3 + (whisker_width*IQR)\n",
    "    ground_water_df[num]=np.where(ground_water_df[num]>upper_whisker,upper_whisker,np.where(ground_water_df[num]<lower_whisker,lower_whisker,ground_water_df[num]))"
   ]
  },
  {
   "cell_type": "code",
   "execution_count": 48,
   "id": "7d33b1ba",
   "metadata": {},
   "outputs": [
    {
     "data": {
      "text/plain": [
       "<AxesSubplot:>"
      ]
     },
     "execution_count": 48,
     "metadata": {},
     "output_type": "execute_result"
    },
    {
     "data": {
      "image/png": "[encoded data removed]",
      "text/plain": [
       "<Figure size 432x288 with 1 Axes>"
      ]
     },
     "metadata": {
      "needs_background": "light"
     },
     "output_type": "display_data"
    }
   ],
   "source": [
    "ground_water_df.boxplot(column=['K'])"
   ]
  },
  {
   "cell_type": "code",
   "execution_count": 49,
   "id": "095619ee",
   "metadata": {},
   "outputs": [
    {
     "data": {
      "text/plain": [
       "<AxesSubplot:>"
      ]
     },
     "execution_count": 49,
     "metadata": {},
     "output_type": "execute_result"
    },
    {
     "data": {
      "image/png": "[encoded data removed]",
      "text/plain": [
       "<Figure size 432x288 with 1 Axes>"
      ]
     },
     "metadata": {
      "needs_background": "light"
     },
     "output_type": "display_data"
    }
   ],
   "source": [
    "ground_water_df.boxplot(column=['RSC'])"
   ]
  },
  {
   "cell_type": "markdown",
   "id": "d1e705bf",
   "metadata": {},
   "source": [
    "## Unnecessary Data"
   ]
  },
  {
   "cell_type": "code",
   "execution_count": 50,
   "id": "3cdf645c",
   "metadata": {},
   "outputs": [
    {
     "name": "stdout",
     "output_type": "stream",
     "text": [
      "season: 100.00%\n",
      "Post-monsoon 2021    817\n",
      "Name: season, dtype: int64\n",
      "\n",
      "CO3: 100.00%\n",
      "0.0    817\n",
      "Name: CO3, dtype: int64\n",
      "\n"
     ]
    }
   ],
   "source": [
    "num_rows = len(ground_water_df)\n",
    "\n",
    "for col in ground_water_df.columns:\n",
    "    cnts = ground_water_df[col].value_counts(dropna=False)\n",
    "    top_pct = (cnts/num_rows).iloc[0]\n",
    "    \n",
    "    if top_pct > 0.999:\n",
    "        print('{0}: {1:.2f}%'.format(col, top_pct*100))\n",
    "        print(cnts)\n",
    "        print()\n",
    "\n",
    "#deleted the season column (it's now commented out)\n",
    "ground_water_df = ground_water_df.drop(columns=['season'])"
   ]
  },
  {
   "cell_type": "code",
   "execution_count": 51,
   "id": "69e1cb0d",
   "metadata": {},
   "outputs": [
    {
     "data": {
      "text/html": [
       "<div>\n",
       "<style scoped>\n",
       "    .dataframe tbody tr th:only-of-type {\n",
       "        vertical-align: middle;\n",
       "    }\n",
       "\n",
       "    .dataframe tbody tr th {\n",
       "        vertical-align: top;\n",
       "    }\n",
       "\n",
       "    .dataframe thead th {\n",
       "        text-align: right;\n",
       "    }\n",
       "</style>\n",
       "<table border=\"1\" class=\"dataframe\">\n",
       "  <thead>\n",
       "    <tr style=\"text-align: right;\">\n",
       "      <th></th>\n",
       "      <th>sno</th>\n",
       "      <th>district</th>\n",
       "      <th>mandal</th>\n",
       "      <th>village</th>\n",
       "      <th>lat_gis</th>\n",
       "      <th>long_gis</th>\n",
       "      <th>RL_GIS</th>\n",
       "      <th>pH</th>\n",
       "      <th>E.C</th>\n",
       "      <th>TDS</th>\n",
       "      <th>...</th>\n",
       "      <th>SO4</th>\n",
       "      <th>Na</th>\n",
       "      <th>K</th>\n",
       "      <th>Ca</th>\n",
       "      <th>Mg</th>\n",
       "      <th>T.H</th>\n",
       "      <th>SAR</th>\n",
       "      <th>Classification</th>\n",
       "      <th>RSC</th>\n",
       "      <th>Classification.1</th>\n",
       "    </tr>\n",
       "  </thead>\n",
       "  <tbody>\n",
       "  </tbody>\n",
       "</table>\n",
       "<p>0 rows × 25 columns</p>\n",
       "</div>"
      ],
      "text/plain": [
       "Empty DataFrame\n",
       "Columns: [sno, district, mandal, village, lat_gis, long_gis, RL_GIS, pH, E.C, TDS, CO3, HCO3, Cl, F, NO3, SO4, Na, K, Ca, Mg, T.H, SAR, Classification, RSC, Classification.1]\n",
       "Index: []\n",
       "\n",
       "[0 rows x 25 columns]"
      ]
     },
     "execution_count": 51,
     "metadata": {},
     "output_type": "execute_result"
    }
   ],
   "source": [
    "ground_water_df[ground_water_df.duplicated()]"
   ]
  },
  {
   "cell_type": "markdown",
   "id": "753a4994",
   "metadata": {},
   "source": [
    "# Feature Selection\n",
    "***"
   ]
  },
  {
   "cell_type": "code",
   "execution_count": 52,
   "id": "684d159b",
   "metadata": {},
   "outputs": [],
   "source": [
    "# Normalizing Data\n",
    "scaled_df = normalize(ground_water_df[numeric])\n",
    "ground_water_df[numeric] = scaled_df"
   ]
  },
  {
   "cell_type": "code",
   "execution_count": 53,
   "id": "38e834ad",
   "metadata": {},
   "outputs": [],
   "source": [
    "# After normalizing, we see that CO3 has NAN correlation, so it will be removed\n",
    "ground_water_df = ground_water_df.drop(columns=['CO3'])"
   ]
  },
  {
   "cell_type": "code",
   "execution_count": 55,
   "id": "13d24f4c",
   "metadata": {},
   "outputs": [
    {
     "ename": "KeyError",
     "evalue": "\"['CO3'] not in index\"",
     "output_type": "error",
     "traceback": [
      "\u001b[1;31m---------------------------------------------------------------------------\u001b[0m",
      "\u001b[1;31mKeyError\u001b[0m                                  Traceback (most recent call last)",
      "\u001b[1;32m~\\AppData\\Local\\Temp/ipykernel_16248/3737092354.py\u001b[0m in \u001b[0;36m<module>\u001b[1;34m\u001b[0m\n\u001b[1;32m----> 1\u001b[1;33m \u001b[0mpd\u001b[0m\u001b[1;33m.\u001b[0m\u001b[0mDataFrame\u001b[0m\u001b[1;33m.\u001b[0m\u001b[0mcorr\u001b[0m\u001b[1;33m(\u001b[0m\u001b[0mground_water_df\u001b[0m\u001b[1;33m[\u001b[0m\u001b[0mnumeric\u001b[0m\u001b[1;33m]\u001b[0m\u001b[1;33m)\u001b[0m\u001b[1;33m\u001b[0m\u001b[1;33m\u001b[0m\u001b[0m\n\u001b[0m",
      "\u001b[1;32m~\\anaconda3\\lib\\site-packages\\pandas\\core\\frame.py\u001b[0m in \u001b[0;36m__getitem__\u001b[1;34m(self, key)\u001b[0m\n\u001b[0;32m   3462\u001b[0m             \u001b[1;32mif\u001b[0m \u001b[0mis_iterator\u001b[0m\u001b[1;33m(\u001b[0m\u001b[0mkey\u001b[0m\u001b[1;33m)\u001b[0m\u001b[1;33m:\u001b[0m\u001b[1;33m\u001b[0m\u001b[1;33m\u001b[0m\u001b[0m\n\u001b[0;32m   3463\u001b[0m                 \u001b[0mkey\u001b[0m \u001b[1;33m=\u001b[0m \u001b[0mlist\u001b[0m\u001b[1;33m(\u001b[0m\u001b[0mkey\u001b[0m\u001b[1;33m)\u001b[0m\u001b[1;33m\u001b[0m\u001b[1;33m\u001b[0m\u001b[0m\n\u001b[1;32m-> 3464\u001b[1;33m             \u001b[0mindexer\u001b[0m \u001b[1;33m=\u001b[0m \u001b[0mself\u001b[0m\u001b[1;33m.\u001b[0m\u001b[0mloc\u001b[0m\u001b[1;33m.\u001b[0m\u001b[0m_get_listlike_indexer\u001b[0m\u001b[1;33m(\u001b[0m\u001b[0mkey\u001b[0m\u001b[1;33m,\u001b[0m \u001b[0maxis\u001b[0m\u001b[1;33m=\u001b[0m\u001b[1;36m1\u001b[0m\u001b[1;33m)\u001b[0m\u001b[1;33m[\u001b[0m\u001b[1;36m1\u001b[0m\u001b[1;33m]\u001b[0m\u001b[1;33m\u001b[0m\u001b[1;33m\u001b[0m\u001b[0m\n\u001b[0m\u001b[0;32m   3465\u001b[0m \u001b[1;33m\u001b[0m\u001b[0m\n\u001b[0;32m   3466\u001b[0m         \u001b[1;31m# take() does not accept boolean indexers\u001b[0m\u001b[1;33m\u001b[0m\u001b[1;33m\u001b[0m\u001b[0m\n",
      "\u001b[1;32m~\\anaconda3\\lib\\site-packages\\pandas\\core\\indexing.py\u001b[0m in \u001b[0;36m_get_listlike_indexer\u001b[1;34m(self, key, axis)\u001b[0m\n\u001b[0;32m   1312\u001b[0m             \u001b[0mkeyarr\u001b[0m\u001b[1;33m,\u001b[0m \u001b[0mindexer\u001b[0m\u001b[1;33m,\u001b[0m \u001b[0mnew_indexer\u001b[0m \u001b[1;33m=\u001b[0m \u001b[0max\u001b[0m\u001b[1;33m.\u001b[0m\u001b[0m_reindex_non_unique\u001b[0m\u001b[1;33m(\u001b[0m\u001b[0mkeyarr\u001b[0m\u001b[1;33m)\u001b[0m\u001b[1;33m\u001b[0m\u001b[1;33m\u001b[0m\u001b[0m\n\u001b[0;32m   1313\u001b[0m \u001b[1;33m\u001b[0m\u001b[0m\n\u001b[1;32m-> 1314\u001b[1;33m         \u001b[0mself\u001b[0m\u001b[1;33m.\u001b[0m\u001b[0m_validate_read_indexer\u001b[0m\u001b[1;33m(\u001b[0m\u001b[0mkeyarr\u001b[0m\u001b[1;33m,\u001b[0m \u001b[0mindexer\u001b[0m\u001b[1;33m,\u001b[0m \u001b[0maxis\u001b[0m\u001b[1;33m)\u001b[0m\u001b[1;33m\u001b[0m\u001b[1;33m\u001b[0m\u001b[0m\n\u001b[0m\u001b[0;32m   1315\u001b[0m \u001b[1;33m\u001b[0m\u001b[0m\n\u001b[0;32m   1316\u001b[0m         if needs_i8_conversion(ax.dtype) or isinstance(\n",
      "\u001b[1;32m~\\anaconda3\\lib\\site-packages\\pandas\\core\\indexing.py\u001b[0m in \u001b[0;36m_validate_read_indexer\u001b[1;34m(self, key, indexer, axis)\u001b[0m\n\u001b[0;32m   1375\u001b[0m \u001b[1;33m\u001b[0m\u001b[0m\n\u001b[0;32m   1376\u001b[0m             \u001b[0mnot_found\u001b[0m \u001b[1;33m=\u001b[0m \u001b[0mlist\u001b[0m\u001b[1;33m(\u001b[0m\u001b[0mensure_index\u001b[0m\u001b[1;33m(\u001b[0m\u001b[0mkey\u001b[0m\u001b[1;33m)\u001b[0m\u001b[1;33m[\u001b[0m\u001b[0mmissing_mask\u001b[0m\u001b[1;33m.\u001b[0m\u001b[0mnonzero\u001b[0m\u001b[1;33m(\u001b[0m\u001b[1;33m)\u001b[0m\u001b[1;33m[\u001b[0m\u001b[1;36m0\u001b[0m\u001b[1;33m]\u001b[0m\u001b[1;33m]\u001b[0m\u001b[1;33m.\u001b[0m\u001b[0munique\u001b[0m\u001b[1;33m(\u001b[0m\u001b[1;33m)\u001b[0m\u001b[1;33m)\u001b[0m\u001b[1;33m\u001b[0m\u001b[1;33m\u001b[0m\u001b[0m\n\u001b[1;32m-> 1377\u001b[1;33m             \u001b[1;32mraise\u001b[0m \u001b[0mKeyError\u001b[0m\u001b[1;33m(\u001b[0m\u001b[1;34mf\"{not_found} not in index\"\u001b[0m\u001b[1;33m)\u001b[0m\u001b[1;33m\u001b[0m\u001b[1;33m\u001b[0m\u001b[0m\n\u001b[0m\u001b[0;32m   1378\u001b[0m \u001b[1;33m\u001b[0m\u001b[0m\n\u001b[0;32m   1379\u001b[0m \u001b[1;33m\u001b[0m\u001b[0m\n",
      "\u001b[1;31mKeyError\u001b[0m: \"['CO3'] not in index\""
     ]
    }
   ],
   "source": [
    "\n",
    "pd.DataFrame.corr(ground_water_df[numeric])"
   ]
  }
 ],
 "metadata": {
  "kernelspec": {
   "display_name": "Python 3 (ipykernel)",
   "language": "python",
   "name": "python3"
  },
  "language_info": {
   "codemirror_mode": {
    "name": "ipython",
    "version": 3
   },
   "file_extension": ".py",
   "mimetype": "text/x-python",
   "name": "python",
   "nbconvert_exporter": "python",
   "pygments_lexer": "ipython3",
   "version": "3.9.7"
  }
 },
 "nbformat": 4,
 "nbformat_minor": 5
}
